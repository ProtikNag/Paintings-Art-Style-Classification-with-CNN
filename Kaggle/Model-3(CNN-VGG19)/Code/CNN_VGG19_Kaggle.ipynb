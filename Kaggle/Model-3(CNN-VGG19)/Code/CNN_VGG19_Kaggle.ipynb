{
  "nbformat": 4,
  "nbformat_minor": 0,
  "metadata": {
    "colab": {
      "name": "CNN-VGG19-Kaggle.ipynb",
      "version": "0.3.2",
      "provenance": [],
      "collapsed_sections": []
    },
    "kernelspec": {
      "name": "python3",
      "display_name": "Python 3"
    },
    "accelerator": "GPU"
  },
  "cells": [
    {
      "cell_type": "markdown",
      "metadata": {
        "id": "No7s2ZPabB9N",
        "colab_type": "text"
      },
      "source": [
        "# Connect to Google Drive"
      ]
    },
    {
      "cell_type": "code",
      "metadata": {
        "id": "LVXMHbWVZqB5",
        "colab_type": "code",
        "outputId": "d2939eb0-4fac-4073-cb01-c9c1ba116375",
        "colab": {
          "base_uri": "https://localhost:8080/",
          "height": 224
        }
      },
      "source": [
        "#Step 1 part 1: connect to drive\n",
        "!apt-get install -y -qq software-properties-common python-software-properties module-init-tools\n",
        "!add-apt-repository -y ppa:alessandro-strada/ppa 2>&1 > /dev/null\n",
        "!apt-get update -qq 2>&1 > /dev/null\n",
        "!apt-get -y install -qq google-drive-ocamlfuse fuse\n",
        "from google.colab import auth\n",
        "auth.authenticate_user()\n",
        "from oauth2client.client import GoogleCredentials\n",
        "creds = GoogleCredentials.get_application_default()\n",
        "import getpass\n",
        "!google-drive-ocamlfuse -headless -id={creds.client_id} -secret={creds.client_secret} < /dev/null 2>&1 | grep URL\n",
        "vcode = getpass.getpass()\n",
        "!echo {vcode} | google-drive-ocamlfuse -headless -id={creds.client_id} -secret={creds.client_secret}"
      ],
      "execution_count": 0,
      "outputs": [
        {
          "output_type": "stream",
          "text": [
            "E: Package 'python-software-properties' has no installation candidate\n",
            "Selecting previously unselected package google-drive-ocamlfuse.\n",
            "(Reading database ... 130912 files and directories currently installed.)\n",
            "Preparing to unpack .../google-drive-ocamlfuse_0.7.3-0ubuntu3~ubuntu18.04.1_amd64.deb ...\n",
            "Unpacking google-drive-ocamlfuse (0.7.3-0ubuntu3~ubuntu18.04.1) ...\n",
            "Setting up google-drive-ocamlfuse (0.7.3-0ubuntu3~ubuntu18.04.1) ...\n",
            "Processing triggers for man-db (2.8.3-2ubuntu0.1) ...\n",
            "Please, open the following URL in a web browser: https://accounts.google.com/o/oauth2/auth?client_id=32555940559.apps.googleusercontent.com&redirect_uri=urn%3Aietf%3Awg%3Aoauth%3A2.0%3Aoob&scope=https%3A%2F%2Fwww.googleapis.com%2Fauth%2Fdrive&response_type=code&access_type=offline&approval_prompt=force\n",
            "··········\n",
            "Please, open the following URL in a web browser: https://accounts.google.com/o/oauth2/auth?client_id=32555940559.apps.googleusercontent.com&redirect_uri=urn%3Aietf%3Awg%3Aoauth%3A2.0%3Aoob&scope=https%3A%2F%2Fwww.googleapis.com%2Fauth%2Fdrive&response_type=code&access_type=offline&approval_prompt=force\n",
            "Please enter the verification code: Access token retrieved correctly.\n"
          ],
          "name": "stdout"
        }
      ]
    },
    {
      "cell_type": "code",
      "metadata": {
        "id": "ggM-B2oQbLh3",
        "colab_type": "code",
        "colab": {}
      },
      "source": [
        "!mkdir -p drive\n",
        "!google-drive-ocamlfuse drive"
      ],
      "execution_count": 0,
      "outputs": []
    },
    {
      "cell_type": "markdown",
      "metadata": {
        "id": "Yp2BA5nSbOxW",
        "colab_type": "text"
      },
      "source": [
        "# Train the model"
      ]
    },
    {
      "cell_type": "code",
      "metadata": {
        "id": "VMNwCFIWbSDE",
        "colab_type": "code",
        "colab": {}
      },
      "source": [
        "import numpy as np\n",
        "import pandas as pd\n",
        "from random import sample\n",
        "import pickle, cv2\n",
        "from matplotlib.pyplot import imread\n",
        "import matplotlib.pyplot as plt\n",
        "from skimage.transform import resize\n",
        "from sklearn.model_selection import train_test_split\n",
        "from keras import applications, optimizers\n",
        "from keras.models import Sequential, Model\n",
        "from keras.layers import Dropout, Flatten, Dense\n",
        "from keras.utils import np_utils\n",
        "from keras.models import model_from_json\n",
        "from keras.models import load_model\n",
        "from keras.utils import plot_model\n",
        "import json"
      ],
      "execution_count": 0,
      "outputs": []
    },
    {
      "cell_type": "code",
      "metadata": {
        "id": "YnU3FkSDbbHz",
        "colab_type": "code",
        "colab": {}
      },
      "source": [
        "def train_validation_split(x, y):\n",
        "    X_training, X_test, y_training, y_test = train_test_split(x, y, stratify=y, random_state=1337)\n",
        "    X_train, X_val, y_train, y_val = train_test_split(X_training, y_training, stratify=y_training, random_state=42)\n",
        "\n",
        "    return X_train, X_val, X_test, y_train, y_val, y_test"
      ],
      "execution_count": 0,
      "outputs": []
    },
    {
      "cell_type": "code",
      "metadata": {
        "id": "5-UKAVHBbeSS",
        "colab_type": "code",
        "colab": {}
      },
      "source": [
        "def one_hot(y_train, y_val, y_test, n_classes):\n",
        "    y_train = np_utils.to_categorical(y_train, n_classes)\n",
        "    y_val = np_utils.to_categorical(y_val, n_classes)\n",
        "    y_test = np_utils.to_categorical(y_test, n_classes)\n",
        "\n",
        "    return y_train, y_val, y_test"
      ],
      "execution_count": 0,
      "outputs": []
    },
    {
      "cell_type": "code",
      "metadata": {
        "id": "9NItlO4sbl7B",
        "colab_type": "code",
        "colab": {}
      },
      "source": [
        "def build_fit_save_cnn(input_shape, n_classes, epochs, batch_size, X_train, X_val, y_train, y_val):\n",
        "    base_model = applications.VGG16(weights='imagenet', include_top=False, input_shape=input_shape)\n",
        "\n",
        "    add_model = Sequential()\n",
        "    add_model.add(Flatten(input_shape=base_model.output_shape[1:]))\n",
        "    add_model.add(Dense(512, activation='relu'))\n",
        "    add_model.add(Dense(512, activation='relu'))\n",
        "    add_model.add(Dropout(0.25))\n",
        "    add_model.add(Dense(n_classes, activation='softmax'))\n",
        "\n",
        "    # combine base model and fully connected layers\n",
        "    final_model = Model(inputs=base_model.input, outputs=add_model(base_model.output))\n",
        "\n",
        "    # specify SDG optimizer parameters\n",
        "    sgd = optimizers.SGD(lr=0.001, decay=1e-6, momentum=0.9, nesterov=True)\n",
        "\n",
        "    # compile model\n",
        "    final_model.compile(loss='categorical_crossentropy', optimizer=sgd, metrics=['accuracy'])\n",
        "\n",
        "    history = final_model.fit(X_train, y_train, batch_size=batch_size, epochs=epochs, verbose=1, validation_data=(X_val, y_val))\n",
        "\n",
        "    score = final_model.evaluate(X_val, y_val, verbose=0)\n",
        "    print('Val. score:', score[0])\n",
        "    print('Val. accuracy:', score[1])\n",
        "    \n",
        "    plot_model(final_model, to_file='drive/ML-Kaggle/CNN-VGG19-Kaggle-Model.svg')\n",
        "    show_history(history)\n",
        "    save_model(final_model,history)\n",
        "\n",
        "    return final_model"
      ],
      "execution_count": 0,
      "outputs": []
    },
    {
      "cell_type": "code",
      "metadata": {
        "id": "gsPQJ7k8bo61",
        "colab_type": "code",
        "colab": {}
      },
      "source": [
        "def test_predict_score(model, X_test, y_test):\n",
        "    score = model.evaluate(X_test, y_test, verbose=0)\n",
        "    test_pred = model.predict(X_test)\n",
        "\n",
        "    print('Test score:', score[0])\n",
        "    print('Test accuracy:', score[1])\n",
        "\n",
        "    return test_pred, score"
      ],
      "execution_count": 0,
      "outputs": []
    },
    {
      "cell_type": "code",
      "metadata": {
        "id": "_EYZEBQTbrwL",
        "colab_type": "code",
        "colab": {}
      },
      "source": [
        "def save_model(model,history):\n",
        "    \n",
        "    open('drive/ML-Kaggle/Saved_models/CNN-VGG19-Kaggle.json', 'w').close()\n",
        "    open('drive/ML-Kaggle/Saved_models/CNN-VGG19-Kaggle-weights.h5', 'w').close()\n",
        "    \n",
        "    model_json = model.to_json()\n",
        "    with open('drive/ML-Kaggle/Saved_models/CNN-VGG19-Kaggle.json', 'w') as json_file:\n",
        "        json_file.write(model_json)\n",
        "\n",
        "    model.save_weights('drive/ML-Kaggle/Saved_models/CNN-VGG19-Kaggle-weights.h5')\n",
        "    print('Model saved to disk!')\n",
        "    \n",
        "    with open('drive/ML-Kaggle/Data/CNN-VGG19-Kaggle-History.json', 'w') as f:\n",
        "        json.dump(history.history, f)\n",
        "    print('History saved to disk!')"
      ],
      "execution_count": 0,
      "outputs": []
    },
    {
      "cell_type": "code",
      "metadata": {
        "id": "q1YCMVlsEsnS",
        "colab_type": "code",
        "colab": {}
      },
      "source": [
        "def show_history(history):\n",
        "    print(history.history.keys())\n",
        "\n",
        "    plt.plot(history.history['acc'])\n",
        "    plt.plot(history.history['val_acc'])\n",
        "    plt.title('model accuracy')\n",
        "    plt.ylabel('accuracy')\n",
        "    plt.xlabel('epoch')\n",
        "    plt.legend(['train', 'test'], loc='upper left')\n",
        "    plt.show()\n",
        "\n",
        "    plt.plot(history.history['loss'])\n",
        "    plt.plot(history.history['val_loss'])\n",
        "    plt.title('model loss')\n",
        "    plt.ylabel('loss')\n",
        "    plt.xlabel('epoch')\n",
        "    plt.legend(['train', 'test'], loc='upper left')\n",
        "    plt.show()"
      ],
      "execution_count": 0,
      "outputs": []
    },
    {
      "cell_type": "code",
      "metadata": {
        "id": "qVjQYQm2bxlM",
        "colab_type": "code",
        "outputId": "f3540a92-4b7f-43ba-9ec7-0557f646f3d5",
        "colab": {
          "base_uri": "https://localhost:8080/",
          "height": 1049
        }
      },
      "source": [
        "if __name__ == '__main__':\n",
        "    seed = 1337\n",
        "    np.random.seed(seed)\n",
        "\n",
        "    epochs = 10\n",
        "    batch_size = 25\n",
        "    input_shape = (224,224,3)\n",
        "\n",
        "    data = np.load('drive/ML-Kaggle/Data/images_labels_224.npz')\n",
        "    x = data['x']\n",
        "    y = data['y']\n",
        "    n_classes = len(np.unique(y))\n",
        "\n",
        "    X_train, X_val, X_test, y_train, y_val, y_test = train_validation_split(x, y)\n",
        "    y_train, y_val, y_test = one_hot(y_train, y_val, y_test, n_classes)\n",
        "    final_model = build_fit_save_cnn(input_shape, n_classes, epochs, batch_size, X_train, X_val, y_train, y_val)\n",
        "    test_pred, score = test_predict_score(final_model, X_test, y_test)"
      ],
      "execution_count": 0,
      "outputs": [
        {
          "output_type": "stream",
          "text": [
            "Train on 675 samples, validate on 225 samples\n",
            "Epoch 1/10\n",
            "675/675 [==============================] - 13s 20ms/step - loss: 1.0777 - acc: 0.4400 - val_loss: 0.9010 - val_acc: 0.5111\n",
            "Epoch 2/10\n",
            "675/675 [==============================] - 12s 18ms/step - loss: 0.8174 - acc: 0.6119 - val_loss: 0.8628 - val_acc: 0.6400\n",
            "Epoch 3/10\n",
            "675/675 [==============================] - 12s 18ms/step - loss: 0.6649 - acc: 0.7170 - val_loss: 0.7546 - val_acc: 0.6533\n",
            "Epoch 4/10\n",
            "675/675 [==============================] - 12s 18ms/step - loss: 0.4894 - acc: 0.8000 - val_loss: 0.7000 - val_acc: 0.6711\n",
            "Epoch 5/10\n",
            "675/675 [==============================] - 12s 18ms/step - loss: 0.2871 - acc: 0.9022 - val_loss: 0.9568 - val_acc: 0.6222\n",
            "Epoch 6/10\n",
            "675/675 [==============================] - 12s 17ms/step - loss: 0.1773 - acc: 0.9437 - val_loss: 0.7736 - val_acc: 0.6711\n",
            "Epoch 7/10\n",
            "675/675 [==============================] - 12s 17ms/step - loss: 0.0663 - acc: 0.9852 - val_loss: 1.1528 - val_acc: 0.6489\n",
            "Epoch 8/10\n",
            "675/675 [==============================] - 12s 18ms/step - loss: 0.0530 - acc: 0.9867 - val_loss: 0.9650 - val_acc: 0.6622\n",
            "Epoch 9/10\n",
            "675/675 [==============================] - 12s 18ms/step - loss: 0.0270 - acc: 0.9911 - val_loss: 1.4087 - val_acc: 0.6667\n",
            "Epoch 10/10\n",
            "675/675 [==============================] - 12s 18ms/step - loss: 0.1109 - acc: 0.9719 - val_loss: 0.8674 - val_acc: 0.6222\n",
            "Val. score: 0.8674007843538291\n",
            "Val. accuracy: 0.6222222222222222\n",
            "dict_keys(['val_loss', 'val_acc', 'loss', 'acc'])\n"
          ],
          "name": "stdout"
        },
        {
          "output_type": "display_data",
          "data": {
            "image/png": "[encoded data removed]",
            "text/plain": [
              "<Figure size 432x288 with 1 Axes>"
            ]
          },
          "metadata": {
            "tags": []
          }
        },
        {
          "output_type": "display_data",
          "data": {
            "image/png": "[encoded data removed]",
            "text/plain": [
              "<Figure size 432x288 with 1 Axes>"
            ]
          },
          "metadata": {
            "tags": []
          }
        },
        {
          "output_type": "stream",
          "text": [
            "Model saved to disk!\n",
            "History saved to disk!\n",
            "Test score: 0.9536557499567667\n",
            "Test accuracy: 0.613333332935969\n"
          ],
          "name": "stdout"
        }
      ]
    },
    {
      "cell_type": "markdown",
      "metadata": {
        "id": "GcSKyPR8SO_b",
        "colab_type": "text"
      },
      "source": [
        "# Predict"
      ]
    },
    {
      "cell_type": "code",
      "metadata": {
        "id": "xmnSkP2vSS9H",
        "colab_type": "code",
        "outputId": "e7f1633f-5dda-46c5-e878-956425c91979",
        "colab": {
          "base_uri": "https://localhost:8080/",
          "height": 34
        }
      },
      "source": [
        "import numpy as np\n",
        "from sys import argv\n",
        "from matplotlib.pyplot import imread\n",
        "import matplotlib.pyplot as plt\n",
        "from skimage.transform import resize\n",
        "import pickle, cv2\n",
        "from keras import optimizers\n",
        "from keras.models import load_model\n",
        "from keras.models import model_from_json"
      ],
      "execution_count": 0,
      "outputs": [
        {
          "output_type": "stream",
          "text": [
            "Using TensorFlow backend.\n"
          ],
          "name": "stderr"
        }
      ]
    },
    {
      "cell_type": "code",
      "metadata": {
        "id": "c2SRFCkcSZ1f",
        "colab_type": "code",
        "colab": {}
      },
      "source": [
        "def load_model():\n",
        "    json_file = open('drive/ML-Kaggle/Saved_models/CNN-VGG19-Kaggle.json', 'r')\n",
        "    loaded_model_json = json_file.read()\n",
        "    json_file.close()\n",
        "\n",
        "    loaded_model = model_from_json(loaded_model_json)\n",
        "    loaded_model.load_weights('drive/ML-Kaggle/Saved_models/CNN-VGG19-Kaggle-weights.h5')\n",
        "\n",
        "    sgd = optimizers.SGD(lr=0.001, decay=1e-6, momentum=0.9, nesterov=True)\n",
        "    loaded_model.compile(loss='categorical_crossentropy', optimizer=sgd, metrics=['accuracy'])\n",
        "\n",
        "    return loaded_model\n"
      ],
      "execution_count": 0,
      "outputs": []
    },
    {
      "cell_type": "code",
      "metadata": {
        "id": "vcA_NtIpS9ty",
        "colab_type": "code",
        "colab": {}
      },
      "source": [
        "def make_prediction(img_path):\n",
        "    model = load_model()\n",
        "\n",
        "    with open('drive/ML-Kaggle/Data/class_dict.pkl', 'rb') as f:\n",
        "        class_dict = pickle.load(f)\n",
        "\n",
        "    image = cv2.imread(img_path, 1)\n",
        "    image = prepare_image(image)\n",
        "    images = []\n",
        "    images.append(image)\n",
        "    images = np.array(images)\n",
        "    image_size = 224\n",
        "    n_channels = 3\n",
        "    X_batch = images.reshape(1, image_size, image_size, n_channels)\n",
        "\n",
        "    preds = model.predict(X_batch)\n",
        "\n",
        "    top_3 = np.argpartition(preds[0], -3)[-3:]\n",
        "    top_3 = reversed(top_3[np.argsort(preds[0][top_3])])\n",
        "    print('Top 3 Predictions:')\n",
        "    print('------------------')\n",
        "    for i in top_3:\n",
        "        print('{0}: {1:.2f}%'.format(class_dict[i], 100 * preds[0][i]))\n"
      ],
      "execution_count": 0,
      "outputs": []
    },
    {
      "cell_type": "code",
      "metadata": {
        "id": "4XKvqWDBUCqj",
        "colab_type": "code",
        "colab": {}
      },
      "source": [
        "def prepare_image(image, target_width=224, target_height=224, max_zoom=0.2):\n",
        "    height = image.shape[0]\n",
        "    width = image.shape[1]\n",
        "    image_ratio = width / height\n",
        "    target_image_ratio = target_width / target_height\n",
        "    crop_vertically = image_ratio < target_image_ratio\n",
        "    crop_width = width if crop_vertically else int(height * target_image_ratio)\n",
        "    crop_height = int(width / target_image_ratio) if crop_vertically else height\n",
        "\n",
        "    resize_factor = np.random.rand() * max_zoom + 1.0\n",
        "    crop_width = int(crop_width / resize_factor)\n",
        "    crop_height = int(crop_height / resize_factor)\n",
        "\n",
        "    x0 = np.random.randint(0, width - crop_width)\n",
        "    y0 = np.random.randint(0, height - crop_height)\n",
        "    x1 = x0 + crop_width\n",
        "    y1 = y0 + crop_height\n",
        "\n",
        "    image = image[y0:y1, x0:x1]\n",
        "    image = cv2.resize(image, (target_width, target_height))\n",
        "\n",
        "    return image.astype(np.float32) / 255"
      ],
      "execution_count": 0,
      "outputs": []
    },
    {
      "cell_type": "code",
      "metadata": {
        "id": "ubf9-R4qUGsj",
        "colab_type": "code",
        "outputId": "f49f2ef8-ee52-45b2-b428-e1ad6ed279b4",
        "colab": {
          "base_uri": "https://localhost:8080/",
          "height": 102
        }
      },
      "source": [
        "if __name__ == '__main__':\n",
        "    img_path = \"drive/ML-Kaggle/UnseenData/Surrealism/39150.jpg\"\n",
        "    make_prediction(img_path)"
      ],
      "execution_count": 0,
      "outputs": [
        {
          "output_type": "stream",
          "text": [
            "Top 3 Predictions:\n",
            "------------------\n",
            "Surrealism: 86.52%\n",
            "Expressionism: 13.11%\n",
            "Impressionism: 0.37%\n"
          ],
          "name": "stdout"
        }
      ]
    }
  ]
}