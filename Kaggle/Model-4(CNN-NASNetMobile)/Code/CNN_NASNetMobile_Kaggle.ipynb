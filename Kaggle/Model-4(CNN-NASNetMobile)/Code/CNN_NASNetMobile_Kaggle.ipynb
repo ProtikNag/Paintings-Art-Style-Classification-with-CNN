{
  "nbformat": 4,
  "nbformat_minor": 0,
  "metadata": {
    "colab": {
      "name": "CNN-NASNetLarge-Kaggle.ipynb",
      "version": "0.3.2",
      "provenance": []
    },
    "kernelspec": {
      "name": "python3",
      "display_name": "Python 3"
    },
    "accelerator": "GPU"
  },
  "cells": [
    {
      "cell_type": "markdown",
      "metadata": {
        "id": "SmxQagioCxMD",
        "colab_type": "text"
      },
      "source": [
        "# Connect to Google Drive"
      ]
    },
    {
      "cell_type": "code",
      "metadata": {
        "id": "eYXdiIepA8aK",
        "colab_type": "code",
        "outputId": "cd5a0866-f5c7-4f15-a4d1-7ec3ddc7626f",
        "colab": {
          "base_uri": "https://localhost:8080/",
          "height": 224
        }
      },
      "source": [
        "#Step 1 part 1: connect to drive\n",
        "!apt-get install -y -qq software-properties-common python-software-properties module-init-tools\n",
        "!add-apt-repository -y ppa:alessandro-strada/ppa 2>&1 > /dev/null\n",
        "!apt-get update -qq 2>&1 > /dev/null\n",
        "!apt-get -y install -qq google-drive-ocamlfuse fuse\n",
        "from google.colab import auth\n",
        "auth.authenticate_user()\n",
        "from oauth2client.client import GoogleCredentials\n",
        "creds = GoogleCredentials.get_application_default()\n",
        "import getpass\n",
        "!google-drive-ocamlfuse -headless -id={creds.client_id} -secret={creds.client_secret} < /dev/null 2>&1 | grep URL\n",
        "vcode = getpass.getpass()\n",
        "!echo {vcode} | google-drive-ocamlfuse -headless -id={creds.client_id} -secret={creds.client_secret}"
      ],
      "execution_count": 0,
      "outputs": [
        {
          "output_type": "stream",
          "text": [
            "E: Package 'python-software-properties' has no installation candidate\n",
            "Selecting previously unselected package google-drive-ocamlfuse.\n",
            "(Reading database ... 130912 files and directories currently installed.)\n",
            "Preparing to unpack .../google-drive-ocamlfuse_0.7.3-0ubuntu3~ubuntu18.04.1_amd64.deb ...\n",
            "Unpacking google-drive-ocamlfuse (0.7.3-0ubuntu3~ubuntu18.04.1) ...\n",
            "Setting up google-drive-ocamlfuse (0.7.3-0ubuntu3~ubuntu18.04.1) ...\n",
            "Processing triggers for man-db (2.8.3-2ubuntu0.1) ...\n",
            "Please, open the following URL in a web browser: https://accounts.google.com/o/oauth2/auth?client_id=32555940559.apps.googleusercontent.com&redirect_uri=urn%3Aietf%3Awg%3Aoauth%3A2.0%3Aoob&scope=https%3A%2F%2Fwww.googleapis.com%2Fauth%2Fdrive&response_type=code&access_type=offline&approval_prompt=force\n",
            "··········\n",
            "Please, open the following URL in a web browser: https://accounts.google.com/o/oauth2/auth?client_id=32555940559.apps.googleusercontent.com&redirect_uri=urn%3Aietf%3Awg%3Aoauth%3A2.0%3Aoob&scope=https%3A%2F%2Fwww.googleapis.com%2Fauth%2Fdrive&response_type=code&access_type=offline&approval_prompt=force\n",
            "Please enter the verification code: Access token retrieved correctly.\n"
          ],
          "name": "stdout"
        }
      ]
    },
    {
      "cell_type": "code",
      "metadata": {
        "id": "vaGXCVDCC32h",
        "colab_type": "code",
        "colab": {}
      },
      "source": [
        "!mkdir -p drive\n",
        "!google-drive-ocamlfuse drive"
      ],
      "execution_count": 0,
      "outputs": []
    },
    {
      "cell_type": "markdown",
      "metadata": {
        "id": "gQj6eXFoDQDk",
        "colab_type": "text"
      },
      "source": [
        "# Train the model"
      ]
    },
    {
      "cell_type": "code",
      "metadata": {
        "id": "Ic0NaZzVDThM",
        "colab_type": "code",
        "outputId": "34399912-4080-4467-d656-c381b4ca1df2",
        "colab": {
          "base_uri": "https://localhost:8080/",
          "height": 34
        }
      },
      "source": [
        "import numpy as np\n",
        "import pandas as pd\n",
        "from random import sample\n",
        "import pickle, cv2\n",
        "from matplotlib.pyplot import imread\n",
        "import matplotlib.pyplot as plt\n",
        "from skimage.transform import resize\n",
        "from sklearn.model_selection import train_test_split\n",
        "from keras import applications, optimizers\n",
        "from keras.models import Sequential, Model\n",
        "from keras.layers import Dropout, Flatten, Dense\n",
        "from keras.utils import np_utils\n",
        "from keras.models import model_from_json\n",
        "from keras.models import load_model\n",
        "from keras.utils import plot_model\n",
        "import json"
      ],
      "execution_count": 0,
      "outputs": [
        {
          "output_type": "stream",
          "text": [
            "Using TensorFlow backend.\n"
          ],
          "name": "stderr"
        }
      ]
    },
    {
      "cell_type": "code",
      "metadata": {
        "id": "tDuHBDWHDWou",
        "colab_type": "code",
        "colab": {}
      },
      "source": [
        "def train_validation_split(x, y):\n",
        "    X_training, X_test, y_training, y_test = train_test_split(x, y, stratify=y, random_state=1337)\n",
        "    X_train, X_val, y_train, y_val = train_test_split(X_training, y_training, stratify=y_training, random_state=42)\n",
        "\n",
        "    return X_train, X_val, X_test, y_train, y_val, y_test"
      ],
      "execution_count": 0,
      "outputs": []
    },
    {
      "cell_type": "code",
      "metadata": {
        "id": "sDcCZgAQDZSw",
        "colab_type": "code",
        "colab": {}
      },
      "source": [
        "def one_hot(y_train, y_val, y_test, n_classes):\n",
        "    y_train = np_utils.to_categorical(y_train, n_classes)\n",
        "    y_val = np_utils.to_categorical(y_val, n_classes)\n",
        "    y_test = np_utils.to_categorical(y_test, n_classes)\n",
        "\n",
        "    return y_train, y_val, y_test"
      ],
      "execution_count": 0,
      "outputs": []
    },
    {
      "cell_type": "code",
      "metadata": {
        "id": "AP8wa4S9DbTG",
        "colab_type": "code",
        "colab": {}
      },
      "source": [
        "def build_fit_save_cnn(input_shape, n_classes, epochs, batch_size, X_train, X_val, y_train, y_val):\n",
        "    base_model = applications.NASNetMobile(weights='imagenet', include_top=False, input_shape=input_shape)\n",
        "\n",
        "    add_model = Sequential()\n",
        "    add_model.add(Flatten(input_shape=base_model.output_shape[1:]))\n",
        "    add_model.add(Dense(512, activation='relu'))\n",
        "    add_model.add(Dense(512, activation='relu'))\n",
        "    add_model.add(Dropout(0.25))\n",
        "    add_model.add(Dense(n_classes, activation='softmax'))\n",
        "\n",
        "    # combine base model and fully connected layers\n",
        "    final_model = Model(inputs=base_model.input, outputs=add_model(base_model.output))\n",
        "\n",
        "    # specify SDG optimizer parameters\n",
        "    sgd = optimizers.SGD(lr=0.001, decay=1e-6, momentum=0.9, nesterov=True)\n",
        "\n",
        "    # compile model\n",
        "    final_model.compile(loss='categorical_crossentropy', optimizer=sgd, metrics=['accuracy'])\n",
        "\n",
        "    history = final_model.fit(X_train, y_train, batch_size=batch_size, epochs=epochs, verbose=1, validation_data=(X_val, y_val))\n",
        "\n",
        "    score = final_model.evaluate(X_val, y_val, verbose=0)\n",
        "    print('Val. score:', score[0])\n",
        "    print('Val. accuracy:', score[1])\n",
        "    \n",
        "    plot_model(final_model, to_file='drive/ML-Kaggle/CNN-NASNetLarge-Kaggle-Model.svg')\n",
        "    show_history(history)\n",
        "    save_model(final_model,history)\n",
        "\n",
        "    return final_model"
      ],
      "execution_count": 0,
      "outputs": []
    },
    {
      "cell_type": "code",
      "metadata": {
        "id": "wGdrfpiQDoCf",
        "colab_type": "code",
        "colab": {}
      },
      "source": [
        "def test_predict_score(model, X_test, y_test):\n",
        "    score = model.evaluate(X_test, y_test, verbose=0)\n",
        "    test_pred = model.predict(X_test)\n",
        "\n",
        "    print('Test score:', score[0])\n",
        "    print('Test accuracy:', score[1])\n",
        "\n",
        "    return test_pred, score"
      ],
      "execution_count": 0,
      "outputs": []
    },
    {
      "cell_type": "code",
      "metadata": {
        "id": "kyIiFFUkDqvl",
        "colab_type": "code",
        "colab": {}
      },
      "source": [
        "def save_model(model,history):\n",
        "    \n",
        "    open('drive/ML-Kaggle/Saved_models/CNN-NASNetLarge-Kaggle.json', 'w').close()\n",
        "    open('drive/ML-Kaggle/Saved_models/CNN-NASNetLarge-Kaggle-weights.h5', 'w').close()\n",
        "    \n",
        "    model_json = model.to_json()\n",
        "    with open('drive/ML-Kaggle/Saved_models/CNN-NASNetLarge-Kaggle.json', 'w') as json_file:\n",
        "        json_file.write(model_json)\n",
        "\n",
        "    model.save_weights('drive/ML-Kaggle/Saved_models/CNN-NASNetLarge-Kaggle-weights.h5')\n",
        "    print('Model saved to disk!')\n",
        "    \n",
        "    with open('drive/ML-Kaggle/Data/CNN-NASNetLarge-Kaggle-History.json', 'w') as f:\n",
        "        json.dump(history.history, f)\n",
        "    print('History saved to disk!')"
      ],
      "execution_count": 0,
      "outputs": []
    },
    {
      "cell_type": "code",
      "metadata": {
        "id": "TnPBY_sZD7F2",
        "colab_type": "code",
        "colab": {}
      },
      "source": [
        "def show_history(history):\n",
        "    print(history.history.keys())\n",
        "\n",
        "    plt.plot(history.history['acc'])\n",
        "    plt.plot(history.history['val_acc'])\n",
        "    plt.title('model accuracy')\n",
        "    plt.ylabel('accuracy')\n",
        "    plt.xlabel('epoch')\n",
        "    plt.legend(['train', 'test'], loc='upper left')\n",
        "    plt.show()\n",
        "\n",
        "    plt.plot(history.history['loss'])\n",
        "    plt.plot(history.history['val_loss'])\n",
        "    plt.title('model loss')\n",
        "    plt.ylabel('loss')\n",
        "    plt.xlabel('epoch')\n",
        "    plt.legend(['train', 'test'], loc='upper left')\n",
        "    plt.show()"
      ],
      "execution_count": 0,
      "outputs": []
    },
    {
      "cell_type": "code",
      "metadata": {
        "id": "3L2sJdFdEVcu",
        "colab_type": "code",
        "outputId": "434d5e71-fa4e-4966-c02d-1111267e6f97",
        "colab": {
          "base_uri": "https://localhost:8080/",
          "height": 1154
        }
      },
      "source": [
        "if __name__ == '__main__':\n",
        "    seed = 1337\n",
        "    np.random.seed(seed)\n",
        "\n",
        "    epochs = 10\n",
        "    batch_size = 25\n",
        "    input_shape = (224,224,3)\n",
        "\n",
        "    data = np.load('drive/ML-Kaggle/Data/images_labels_224.npz')\n",
        "    x = data['x']\n",
        "    y = data['y']\n",
        "    n_classes = len(np.unique(y))\n",
        "\n",
        "    X_train, X_val, X_test, y_train, y_val, y_test = train_validation_split(x, y)\n",
        "    y_train, y_val, y_test = one_hot(y_train, y_val, y_test, n_classes)\n",
        "    final_model = build_fit_save_cnn(input_shape, n_classes, epochs, batch_size, X_train, X_val, y_train, y_val)\n",
        "    test_pred, score = test_predict_score(final_model, X_test, y_test)"
      ],
      "execution_count": 0,
      "outputs": [
        {
          "output_type": "stream",
          "text": [
            "Downloading data from https://github.com/titu1994/Keras-NASNet/releases/download/v1.2/NASNet-mobile-no-top.h5\n",
            "19996672/19993432 [==============================] - 1s 0us/step\n",
            "WARNING:tensorflow:From /usr/local/lib/python3.6/dist-packages/tensorflow/python/ops/math_ops.py:3066: to_int32 (from tensorflow.python.ops.math_ops) is deprecated and will be removed in a future version.\n",
            "Instructions for updating:\n",
            "Use tf.cast instead.\n",
            "Train on 675 samples, validate on 225 samples\n",
            "Epoch 1/10\n",
            "675/675 [==============================] - 60s 90ms/step - loss: 1.1095 - acc: 0.5111 - val_loss: 0.8307 - val_acc: 0.5911\n",
            "Epoch 2/10\n",
            "675/675 [==============================] - 11s 16ms/step - loss: 0.4874 - acc: 0.8104 - val_loss: 0.9083 - val_acc: 0.6089\n",
            "Epoch 3/10\n",
            "675/675 [==============================] - 11s 16ms/step - loss: 0.1924 - acc: 0.9319 - val_loss: 0.9677 - val_acc: 0.6622\n",
            "Epoch 4/10\n",
            "675/675 [==============================] - 11s 16ms/step - loss: 0.0659 - acc: 0.9881 - val_loss: 1.0415 - val_acc: 0.6489\n",
            "Epoch 5/10\n",
            "675/675 [==============================] - 11s 16ms/step - loss: 0.0292 - acc: 0.9941 - val_loss: 1.0506 - val_acc: 0.6578\n",
            "Epoch 6/10\n",
            "675/675 [==============================] - 11s 16ms/step - loss: 0.0200 - acc: 0.9926 - val_loss: 1.1093 - val_acc: 0.6622\n",
            "Epoch 7/10\n",
            "675/675 [==============================] - 11s 16ms/step - loss: 0.0126 - acc: 1.0000 - val_loss: 1.2248 - val_acc: 0.6400\n",
            "Epoch 8/10\n",
            "675/675 [==============================] - 11s 16ms/step - loss: 0.0074 - acc: 1.0000 - val_loss: 1.1894 - val_acc: 0.6756\n",
            "Epoch 9/10\n",
            "675/675 [==============================] - 11s 16ms/step - loss: 0.0186 - acc: 0.9941 - val_loss: 1.2683 - val_acc: 0.6578\n",
            "Epoch 10/10\n",
            "675/675 [==============================] - 11s 16ms/step - loss: 0.0201 - acc: 0.9941 - val_loss: 1.3135 - val_acc: 0.6889\n",
            "Val. score: 1.313508636686537\n",
            "Val. accuracy: 0.6888888888888889\n",
            "dict_keys(['val_loss', 'val_acc', 'loss', 'acc'])\n"
          ],
          "name": "stdout"
        },
        {
          "output_type": "display_data",
          "data": {
            "image/png": "[encoded data removed]",
            "text/plain": [
              "<Figure size 432x288 with 1 Axes>"
            ]
          },
          "metadata": {
            "tags": []
          }
        },
        {
          "output_type": "display_data",
          "data": {
            "image/png": "[encoded data removed]",
            "text/plain": [
              "<Figure size 432x288 with 1 Axes>"
            ]
          },
          "metadata": {
            "tags": []
          }
        },
        {
          "output_type": "stream",
          "text": [
            "Model saved to disk!\n",
            "History saved to disk!\n",
            "Test score: 1.1088885482152302\n",
            "Test accuracy: 0.686666665871938\n"
          ],
          "name": "stdout"
        }
      ]
    },
    {
      "cell_type": "markdown",
      "metadata": {
        "id": "v-M59RhKEco9",
        "colab_type": "text"
      },
      "source": [
        "# Predict"
      ]
    },
    {
      "cell_type": "code",
      "metadata": {
        "id": "bn2rEqb1Eef6",
        "colab_type": "code",
        "colab": {}
      },
      "source": [
        ""
      ],
      "execution_count": 0,
      "outputs": []
    }
  ]
}