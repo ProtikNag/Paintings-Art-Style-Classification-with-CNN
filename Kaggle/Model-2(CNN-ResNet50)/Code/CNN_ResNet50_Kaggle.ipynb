{
  "nbformat": 4,
  "nbformat_minor": 0,
  "metadata": {
    "colab": {
      "name": "CNN-ResNet50-Kaggle.ipynb",
      "version": "0.3.2",
      "provenance": [],
      "collapsed_sections": [
        "IetocQzV5MGX"
      ]
    },
    "kernelspec": {
      "name": "python3",
      "display_name": "Python 3"
    },
    "accelerator": "GPU"
  },
  "cells": [
    {
      "cell_type": "markdown",
      "metadata": {
        "id": "IetocQzV5MGX",
        "colab_type": "text"
      },
      "source": [
        "# Connect to Google Drive"
      ]
    },
    {
      "cell_type": "code",
      "metadata": {
        "id": "u8h8TdiA4ZwF",
        "colab_type": "code",
        "outputId": "d71b2df6-3d30-4a9e-c6f4-c16b67cb2efa",
        "colab": {
          "base_uri": "https://localhost:8080/",
          "height": 224
        }
      },
      "source": [
        "#Step 1 part 1: connect to drive\n",
        "!apt-get install -y -qq software-properties-common python-software-properties module-init-tools\n",
        "!add-apt-repository -y ppa:alessandro-strada/ppa 2>&1 > /dev/null\n",
        "!apt-get update -qq 2>&1 > /dev/null\n",
        "!apt-get -y install -qq google-drive-ocamlfuse fuse\n",
        "from google.colab import auth\n",
        "auth.authenticate_user()\n",
        "from oauth2client.client import GoogleCredentials\n",
        "creds = GoogleCredentials.get_application_default()\n",
        "import getpass\n",
        "!google-drive-ocamlfuse -headless -id={creds.client_id} -secret={creds.client_secret} < /dev/null 2>&1 | grep URL\n",
        "vcode = getpass.getpass()\n",
        "!echo {vcode} | google-drive-ocamlfuse -headless -id={creds.client_id} -secret={creds.client_secret}"
      ],
      "execution_count": 0,
      "outputs": [
        {
          "output_type": "stream",
          "text": [
            "E: Package 'python-software-properties' has no installation candidate\n",
            "Selecting previously unselected package google-drive-ocamlfuse.\n",
            "(Reading database ... 130912 files and directories currently installed.)\n",
            "Preparing to unpack .../google-drive-ocamlfuse_0.7.3-0ubuntu3~ubuntu18.04.1_amd64.deb ...\n",
            "Unpacking google-drive-ocamlfuse (0.7.3-0ubuntu3~ubuntu18.04.1) ...\n",
            "Setting up google-drive-ocamlfuse (0.7.3-0ubuntu3~ubuntu18.04.1) ...\n",
            "Processing triggers for man-db (2.8.3-2ubuntu0.1) ...\n",
            "Please, open the following URL in a web browser: https://accounts.google.com/o/oauth2/auth?client_id=32555940559.apps.googleusercontent.com&redirect_uri=urn%3Aietf%3Awg%3Aoauth%3A2.0%3Aoob&scope=https%3A%2F%2Fwww.googleapis.com%2Fauth%2Fdrive&response_type=code&access_type=offline&approval_prompt=force\n",
            "··········\n",
            "Please, open the following URL in a web browser: https://accounts.google.com/o/oauth2/auth?client_id=32555940559.apps.googleusercontent.com&redirect_uri=urn%3Aietf%3Awg%3Aoauth%3A2.0%3Aoob&scope=https%3A%2F%2Fwww.googleapis.com%2Fauth%2Fdrive&response_type=code&access_type=offline&approval_prompt=force\n",
            "Please enter the verification code: Access token retrieved correctly.\n"
          ],
          "name": "stdout"
        }
      ]
    },
    {
      "cell_type": "code",
      "metadata": {
        "id": "8qmEl8J45TQL",
        "colab_type": "code",
        "colab": {}
      },
      "source": [
        "!mkdir -p drive\n",
        "!google-drive-ocamlfuse drive"
      ],
      "execution_count": 0,
      "outputs": []
    },
    {
      "cell_type": "markdown",
      "metadata": {
        "id": "4QU-f5iK7LrT",
        "colab_type": "text"
      },
      "source": [
        "# Prepare Data"
      ]
    },
    {
      "cell_type": "code",
      "metadata": {
        "id": "aVQG8paD9716",
        "colab_type": "code",
        "colab": {}
      },
      "source": [
        "import numpy as np\n",
        "import pandas as pd\n",
        "import os\n",
        "from os import listdir\n",
        "from os.path import isfile, join\n",
        "from os import walk\n",
        "from random import sample\n",
        "from matplotlib.pyplot import imread\n",
        "from skimage.transform import resize\n",
        "import pickle, cv2\n",
        "from sklearn.preprocessing import LabelEncoder"
      ],
      "execution_count": 0,
      "outputs": []
    },
    {
      "cell_type": "code",
      "metadata": {
        "id": "dSvxyR7--QlW",
        "colab_type": "code",
        "colab": {}
      },
      "source": [
        "def make_img_df():\n",
        "    \n",
        "    img_root = 'drive/ML-Kaggle/img/'\n",
        "    img_details = pd.read_csv('drive/ML-Kaggle/Data/all_data_info.csv')\n",
        "    \n",
        "    keepers = ['Impressionism','Expressionism','Surrealism']\n",
        "\n",
        "    df_details = img_details[img_details['style'].isin(keepers)]\n",
        "    img_names = df_details['new_filename'].values\n",
        "    \n",
        "    files = [f for f in os.listdir(img_root) if os.path.isfile(os.path.join(img_root, f))]\n",
        "\n",
        "    art_list = []\n",
        "    for name in files:\n",
        "        if name in img_names:\n",
        "            img_path = '{}{}'.format(img_root, name)\n",
        "            art_list.append(img_path)\n",
        "\n",
        "    names = []\n",
        "    for path in art_list:\n",
        "        img = cv2.imread(path, 1)\n",
        "        try:\n",
        "            img.shape\n",
        "            names.append(path.lstrip(img_root))\n",
        "        except AttributeError:\n",
        "            continue\n",
        "\n",
        "    styles = [df_details.loc[df_details['new_filename'] == name, 'style'].iloc[0] for name in names]\n",
        "    \n",
        "    print(styles)\n",
        "\n",
        "    images = ['{}{}'.format(img_root, name) for name in names]\n",
        "    \n",
        "    print(styles)\n",
        "\n",
        "    final_df = pd.DataFrame({'img_path':images, 'class':styles})\n",
        "    final_df.to_pickle('drive/ML-Kaggle/Data/paths_classes_03.pkl')\n",
        "    \n",
        "    print(\"Saved in a .pkl file\")"
      ],
      "execution_count": 0,
      "outputs": []
    },
    {
      "cell_type": "code",
      "metadata": {
        "id": "69uwco7LEK5Q",
        "colab_type": "code",
        "colab": {}
      },
      "source": [
        "def prepare_data():\n",
        "    df = pd.read_pickle('drive/ML-Kaggle/Data/paths_classes_03.pkl')\n",
        "\n",
        "    paths_and_classes_small, class_names = sampled_paths_classes(df)\n",
        "\n",
        "    with open('drive/ML-Kaggle/Data/paths_and_classes_small.pkl', 'wb') as f:\n",
        "        pickle.dump(paths_and_classes_small, f)\n",
        "\n",
        "    class_dict = {index: art_class for index, art_class in zip(range(3), class_names)}\n",
        "\n",
        "    with open('drive/ML-Kaggle/Data/class_dict.pkl', 'wb') as f:\n",
        "        pickle.dump(class_dict, f, protocol=pickle.HIGHEST_PROTOCOL)\n",
        "\n",
        "    images = [cv2.imread(path,1) for path, label in paths_and_classes_small]\n",
        "\n",
        "    x = np.array([prepare_image(image) for image in images])\n",
        "    y = np.array([style for path, style in paths_and_classes_small])\n",
        "    \n",
        "    np.savez('drive/ML-Kaggle/Data/images_labels_224.npz', x=x, y=y)\n",
        "    print(\"Saved in a .npz file\")"
      ],
      "execution_count": 0,
      "outputs": []
    },
    {
      "cell_type": "code",
      "metadata": {
        "id": "5z_yQkP5E9f0",
        "colab_type": "code",
        "colab": {}
      },
      "source": [
        "def sampled_paths_classes(df):\n",
        "    # encode art categories as numerical values\n",
        "    encoder = LabelEncoder()\n",
        "    y = encoder.fit_transform(df['class'].astype('str'))\n",
        "    n_classes = len(np.unique(y))\n",
        "    paths_and_classes = list(zip(df['img_path'].tolist(), y))\n",
        "\n",
        "    paths_and_classes_small = []\n",
        "    for x in range(n_classes):\n",
        "        temp = [(path, style) for path, style in paths_and_classes if style == x]\n",
        "        samp = sample(temp, 400)\n",
        "        for path, style in samp:\n",
        "            paths_and_classes_small.append((path,style))\n",
        "\n",
        "    np.random.shuffle(paths_and_classes_small)\n",
        "\n",
        "    return paths_and_classes_small, encoder.classes_"
      ],
      "execution_count": 0,
      "outputs": []
    },
    {
      "cell_type": "code",
      "metadata": {
        "id": "-vCjWTfqFVPP",
        "colab_type": "code",
        "colab": {}
      },
      "source": [
        "def prepare_image(image, target_width=224, target_height=224, max_zoom=0.2):\n",
        "    height = image.shape[0]\n",
        "    width = image.shape[0]\n",
        "\n",
        "    image_ratio = width / height\n",
        "    target_image_ratio = target_width / target_height\n",
        "    \n",
        "    crop_vertically = image_ratio < target_image_ratio\n",
        "    crop_width = width if crop_vertically else int(height * target_image_ratio)\n",
        "    crop_height = int(width / target_image_ratio) if crop_vertically else height\n",
        "\n",
        "    resize_factor = np.random.rand() * max_zoom + 1.0\n",
        "    crop_width = int(crop_width / resize_factor)\n",
        "    crop_height = int(crop_height / resize_factor)\n",
        "\n",
        "    x0 = np.random.randint(0, width - crop_width)\n",
        "    y0 = np.random.randint(0, height - crop_height)\n",
        "    x1 = x0 + crop_width\n",
        "    y1 = y0 + crop_height\n",
        "\n",
        "    image = image[y0:y1, x0:x1]\n",
        "\n",
        "    if np.random.rand() < 0.5:\n",
        "        image = np.fliplr(image)\n",
        "\n",
        "    image = cv2.resize(image, (target_width, target_height))\n",
        "\n",
        "    return image.astype(np.float32) / 255"
      ],
      "execution_count": 0,
      "outputs": []
    },
    {
      "cell_type": "code",
      "metadata": {
        "id": "ln3-CpJvGjfn",
        "colab_type": "code",
        "outputId": "58bc6c26-5721-4ebe-bcbf-f70e34931261",
        "colab": {
          "base_uri": "https://localhost:8080/",
          "height": 88
        }
      },
      "source": [
        "make_img_df()"
      ],
      "execution_count": 0,
      "outputs": [
        {
          "output_type": "stream",
          "text": [
            "['Expressionism', 'Expressionism', 'Expressionism', 'Expressionism', 'Expressionism', 'Expressionism', 'Expressionism', 'Expressionism', 'Expressionism', 'Impressionism', 'Expressionism', 'Expressionism', 'Expressionism', 'Expressionism', 'Expressionism', 'Impressionism', 'Expressionism', 'Expressionism', 'Expressionism', 'Expressionism', 'Expressionism', 'Expressionism', 'Expressionism', 'Expressionism', 'Expressionism', 'Impressionism', 'Surrealism', 'Expressionism', 'Expressionism', 'Expressionism', 'Expressionism', 'Expressionism', 'Expressionism', 'Surrealism', 'Impressionism', 'Expressionism', 'Expressionism', 'Expressionism', 'Expressionism', 'Surrealism', 'Expressionism', 'Expressionism', 'Expressionism', 'Expressionism', 'Expressionism', 'Expressionism', 'Expressionism', 'Surrealism', 'Impressionism', 'Expressionism', 'Expressionism', 'Impressionism', 'Expressionism', 'Expressionism', 'Impressionism', 'Surrealism', 'Impressionism', 'Expressionism', 'Surrealism', 'Impressionism', 'Surrealism', 'Surrealism', 'Impressionism', 'Impressionism', 'Impressionism', 'Impressionism', 'Impressionism', 'Surrealism', 'Expressionism', 'Surrealism', 'Expressionism', 'Expressionism', 'Expressionism', 'Impressionism', 'Expressionism', 'Expressionism', 'Expressionism', 'Expressionism', 'Expressionism', 'Surrealism', 'Surrealism', 'Impressionism', 'Surrealism', 'Surrealism', 'Surrealism', 'Impressionism', 'Surrealism', 'Surrealism', 'Expressionism', 'Expressionism', 'Surrealism', 'Impressionism', 'Expressionism', 'Surrealism', 'Expressionism', 'Expressionism', 'Surrealism', 'Impressionism', 'Expressionism', 'Expressionism', 'Expressionism', 'Expressionism', 'Expressionism', 'Impressionism', 'Impressionism', 'Expressionism', 'Surrealism', 'Impressionism', 'Impressionism', 'Surrealism', 'Expressionism', 'Expressionism', 'Expressionism', 'Expressionism', 'Expressionism', 'Expressionism', 'Impressionism', 'Impressionism', 'Expressionism', 'Expressionism', 'Expressionism', 'Expressionism', 'Expressionism', 'Expressionism', 'Surrealism', 'Impressionism', 'Expressionism', 'Expressionism', 'Impressionism', 'Surrealism', 'Surrealism', 'Expressionism', 'Surrealism', 'Expressionism', 'Expressionism', 'Surrealism', 'Expressionism', 'Expressionism', 'Expressionism', 'Expressionism', 'Expressionism', 'Expressionism', 'Expressionism', 'Expressionism', 'Expressionism', 'Expressionism', 'Expressionism', 'Impressionism', 'Expressionism', 'Expressionism', 'Expressionism', 'Surrealism', 'Expressionism', 'Expressionism', 'Expressionism', 'Expressionism', 'Surrealism', 'Expressionism', 'Impressionism', 'Surrealism', 'Expressionism', 'Expressionism', 'Expressionism', 'Impressionism', 'Expressionism', 'Impressionism', 'Surrealism', 'Expressionism', 'Expressionism', 'Expressionism', 'Impressionism', 'Surrealism', 'Impressionism', 'Surrealism', 'Surrealism', 'Expressionism', 'Surrealism', 'Surrealism', 'Expressionism', 'Impressionism', 'Surrealism', 'Impressionism', 'Expressionism', 'Surrealism', 'Impressionism', 'Surrealism', 'Impressionism', 'Impressionism', 'Impressionism', 'Impressionism', 'Expressionism', 'Surrealism', 'Expressionism', 'Impressionism', 'Surrealism', 'Surrealism', 'Surrealism', 'Expressionism', 'Surrealism', 'Impressionism', 'Surrealism', 'Expressionism', 'Expressionism', 'Impressionism', 'Impressionism', 'Impressionism', 'Surrealism', 'Impressionism', 'Surrealism', 'Surrealism', 'Expressionism', 'Expressionism', 'Impressionism', 'Impressionism', 'Expressionism', 'Surrealism', 'Surrealism', 'Expressionism', 'Surrealism', 'Expressionism', 'Surrealism', 'Expressionism', 'Expressionism', 'Expressionism', 'Expressionism', 'Expressionism', 'Impressionism', 'Surrealism', 'Expressionism', 'Expressionism', 'Expressionism', 'Surrealism', 'Expressionism', 'Surrealism', 'Impressionism', 'Impressionism', 'Impressionism', 'Impressionism', 'Impressionism', 'Impressionism', 'Expressionism', 'Impressionism', 'Impressionism', 'Impressionism', 'Impressionism', 'Surrealism', 'Impressionism', 'Impressionism', 'Surrealism', 'Impressionism', 'Impressionism', 'Impressionism', 'Expressionism', 'Impressionism', 'Surrealism', 'Impressionism', 'Surrealism', 'Expressionism', 'Surrealism', 'Expressionism', 'Expressionism', 'Expressionism', 'Expressionism', 'Expressionism', 'Impressionism', 'Impressionism', 'Expressionism', 'Expressionism', 'Surrealism', 'Surrealism', 'Expressionism', 'Impressionism', 'Expressionism', 'Expressionism', 'Expressionism', 'Expressionism', 'Expressionism', 'Expressionism', 'Expressionism', 'Expressionism', 'Surrealism', 'Expressionism', 'Surrealism', 'Surrealism', 'Impressionism', 'Impressionism', 'Impressionism', 'Surrealism', 'Impressionism', 'Expressionism', 'Expressionism', 'Expressionism', 'Impressionism', 'Surrealism', 'Expressionism', 'Surrealism', 'Expressionism', 'Surrealism', 'Impressionism', 'Surrealism', 'Surrealism', 'Surrealism', 'Surrealism', 'Expressionism', 'Surrealism', 'Impressionism', 'Expressionism', 'Surrealism', 'Expressionism', 'Surrealism', 'Expressionism', 'Expressionism', 'Surrealism', 'Expressionism', 'Expressionism', 'Expressionism', 'Expressionism', 'Expressionism', 'Surrealism', 'Expressionism', 'Expressionism', 'Expressionism', 'Expressionism', 'Expressionism', 'Expressionism', 'Surrealism', 'Expressionism', 'Impressionism', 'Expressionism', 'Expressionism', 'Surrealism', 'Expressionism', 'Expressionism', 'Expressionism', 'Expressionism', 'Expressionism', 'Expressionism', 'Surrealism', 'Surrealism', 'Impressionism', 'Surrealism', 'Surrealism', 'Surrealism', 'Impressionism', 'Impressionism', 'Expressionism', 'Surrealism', 'Expressionism', 'Impressionism', 'Impressionism', 'Impressionism', 'Surrealism', 'Impressionism', 'Surrealism', 'Impressionism', 'Impressionism', 'Expressionism', 'Impressionism', 'Surrealism', 'Surrealism', 'Impressionism', 'Expressionism', 'Expressionism', 'Surrealism', 'Expressionism', 'Expressionism', 'Expressionism', 'Expressionism', 'Expressionism', 'Expressionism', 'Expressionism', 'Expressionism', 'Expressionism', 'Expressionism', 'Impressionism', 'Expressionism', 'Impressionism', 'Impressionism', 'Impressionism', 'Expressionism', 'Expressionism', 'Expressionism', 'Expressionism', 'Expressionism', 'Surrealism', 'Surrealism', 'Surrealism', 'Impressionism', 'Expressionism', 'Expressionism', 'Impressionism', 'Surrealism', 'Expressionism', 'Surrealism', 'Surrealism', 'Expressionism', 'Surrealism', 'Impressionism', 'Impressionism', 'Surrealism', 'Surrealism', 'Surrealism', 'Impressionism', 'Impressionism', 'Surrealism', 'Expressionism', 'Surrealism', 'Impressionism', 'Surrealism', 'Surrealism', 'Impressionism', 'Expressionism', 'Impressionism', 'Impressionism', 'Expressionism', 'Surrealism', 'Surrealism', 'Surrealism', 'Impressionism', 'Surrealism', 'Surrealism', 'Expressionism', 'Impressionism', 'Surrealism', 'Expressionism', 'Impressionism', 'Surrealism', 'Expressionism', 'Impressionism', 'Impressionism', 'Impressionism', 'Surrealism', 'Surrealism', 'Surrealism', 'Surrealism', 'Expressionism', 'Surrealism', 'Surrealism', 'Surrealism', 'Impressionism', 'Impressionism', 'Surrealism', 'Expressionism', 'Impressionism', 'Impressionism', 'Surrealism', 'Impressionism', 'Surrealism', 'Surrealism', 'Surrealism', 'Impressionism', 'Impressionism', 'Impressionism', 'Impressionism', 'Surrealism', 'Impressionism', 'Surrealism', 'Expressionism', 'Impressionism', 'Expressionism', 'Impressionism', 'Surrealism', 'Surrealism', 'Surrealism', 'Impressionism', 'Surrealism', 'Impressionism', 'Surrealism', 'Impressionism', 'Surrealism', 'Surrealism', 'Impressionism', 'Impressionism', 'Surrealism', 'Impressionism', 'Expressionism', 'Surrealism', 'Surrealism', 'Surrealism', 'Surrealism', 'Surrealism', 'Impressionism', 'Impressionism', 'Surrealism', 'Surrealism', 'Expressionism', 'Surrealism', 'Impressionism', 'Impressionism', 'Surrealism', 'Impressionism', 'Surrealism', 'Surrealism', 'Impressionism', 'Surrealism', 'Expressionism', 'Surrealism', 'Surrealism', 'Surrealism', 'Expressionism', 'Surrealism', 'Impressionism', 'Impressionism', 'Impressionism', 'Impressionism', 'Impressionism', 'Expressionism', 'Surrealism', 'Expressionism', 'Surrealism', 'Surrealism', 'Expressionism', 'Expressionism', 'Expressionism', 'Impressionism', 'Expressionism', 'Impressionism', 'Impressionism', 'Expressionism', 'Surrealism', 'Expressionism', 'Impressionism', 'Surrealism', 'Impressionism', 'Impressionism', 'Expressionism', 'Surrealism', 'Surrealism', 'Surrealism', 'Surrealism', 'Surrealism', 'Surrealism', 'Surrealism', 'Impressionism', 'Impressionism', 'Surrealism', 'Impressionism', 'Surrealism', 'Impressionism', 'Surrealism', 'Surrealism', 'Impressionism', 'Impressionism', 'Surrealism', 'Surrealism', 'Impressionism', 'Expressionism', 'Expressionism', 'Expressionism', 'Surrealism', 'Expressionism', 'Impressionism', 'Expressionism', 'Impressionism', 'Impressionism', 'Expressionism', 'Expressionism', 'Expressionism', 'Expressionism', 'Expressionism', 'Surrealism', 'Expressionism', 'Expressionism', 'Expressionism', 'Expressionism', 'Expressionism', 'Impressionism', 'Surrealism', 'Surrealism', 'Surrealism', 'Impressionism', 'Impressionism', 'Surrealism', 'Impressionism', 'Surrealism', 'Impressionism', 'Expressionism', 'Expressionism', 'Surrealism', 'Surrealism', 'Surrealism', 'Impressionism', 'Surrealism', 'Surrealism', 'Impressionism', 'Impressionism', 'Expressionism', 'Surrealism', 'Expressionism', 'Impressionism', 'Surrealism', 'Impressionism', 'Expressionism', 'Impressionism', 'Surrealism', 'Expressionism', 'Expressionism', 'Impressionism', 'Surrealism', 'Expressionism', 'Expressionism', 'Surrealism', 'Impressionism', 'Impressionism', 'Surrealism', 'Impressionism', 'Surrealism', 'Surrealism', 'Surrealism', 'Impressionism', 'Impressionism', 'Surrealism', 'Impressionism', 'Expressionism', 'Impressionism', 'Expressionism', 'Expressionism', 'Expressionism', 'Expressionism', 'Impressionism', 'Expressionism', 'Expressionism', 'Expressionism', 'Impressionism', 'Impressionism', 'Impressionism', 'Expressionism', 'Expressionism', 'Surrealism', 'Impressionism', 'Surrealism', 'Expressionism', 'Impressionism', 'Expressionism', 'Surrealism', 'Impressionism', 'Surrealism', 'Surrealism', 'Impressionism', 'Surrealism', 'Surrealism', 'Impressionism', 'Surrealism', 'Surrealism', 'Impressionism', 'Expressionism', 'Impressionism', 'Impressionism', 'Impressionism', 'Expressionism', 'Expressionism', 'Expressionism', 'Impressionism', 'Impressionism', 'Impressionism', 'Surrealism', 'Expressionism', 'Surrealism', 'Surrealism', 'Expressionism', 'Impressionism', 'Surrealism', 'Expressionism', 'Expressionism', 'Expressionism', 'Expressionism', 'Surrealism', 'Impressionism', 'Impressionism', 'Impressionism', 'Expressionism', 'Impressionism', 'Surrealism', 'Expressionism', 'Surrealism', 'Impressionism', 'Surrealism', 'Impressionism', 'Impressionism', 'Expressionism', 'Impressionism', 'Expressionism', 'Surrealism', 'Impressionism', 'Surrealism', 'Impressionism', 'Impressionism', 'Surrealism', 'Impressionism', 'Impressionism', 'Impressionism', 'Surrealism', 'Surrealism', 'Impressionism', 'Impressionism', 'Expressionism', 'Surrealism', 'Expressionism', 'Surrealism', 'Impressionism', 'Surrealism', 'Surrealism', 'Surrealism', 'Surrealism', 'Impressionism', 'Impressionism', 'Impressionism', 'Surrealism', 'Impressionism', 'Surrealism', 'Surrealism', 'Impressionism', 'Impressionism', 'Surrealism', 'Impressionism', 'Impressionism', 'Surrealism', 'Surrealism', 'Surrealism', 'Surrealism', 'Surrealism', 'Impressionism', 'Impressionism', 'Surrealism', 'Impressionism', 'Impressionism', 'Impressionism', 'Surrealism', 'Impressionism', 'Surrealism', 'Impressionism', 'Surrealism', 'Impressionism', 'Surrealism', 'Impressionism', 'Surrealism', 'Surrealism', 'Surrealism', 'Surrealism', 'Impressionism', 'Impressionism', 'Impressionism', 'Impressionism', 'Surrealism', 'Surrealism', 'Impressionism', 'Impressionism', 'Impressionism', 'Surrealism', 'Expressionism', 'Impressionism', 'Surrealism', 'Impressionism', 'Impressionism', 'Surrealism', 'Expressionism', 'Surrealism', 'Surrealism', 'Surrealism', 'Surrealism', 'Surrealism', 'Impressionism', 'Impressionism', 'Expressionism', 'Impressionism', 'Surrealism', 'Surrealism', 'Impressionism', 'Impressionism', 'Surrealism', 'Impressionism', 'Surrealism', 'Impressionism', 'Impressionism', 'Expressionism', 'Surrealism', 'Impressionism', 'Impressionism', 'Surrealism', 'Expressionism', 'Surrealism', 'Surrealism', 'Impressionism', 'Impressionism', 'Impressionism', 'Surrealism', 'Impressionism', 'Impressionism', 'Impressionism', 'Expressionism', 'Expressionism', 'Surrealism', 'Expressionism', 'Surrealism', 'Impressionism', 'Surrealism', 'Surrealism', 'Expressionism', 'Surrealism', 'Expressionism', 'Impressionism', 'Surrealism', 'Surrealism', 'Impressionism', 'Surrealism', 'Expressionism', 'Surrealism', 'Expressionism', 'Expressionism', 'Expressionism', 'Impressionism', 'Expressionism', 'Impressionism', 'Surrealism', 'Expressionism', 'Expressionism', 'Surrealism', 'Surrealism', 'Surrealism', 'Impressionism', 'Surrealism', 'Expressionism', 'Surrealism', 'Expressionism', 'Expressionism', 'Surrealism', 'Surrealism', 'Impressionism', 'Surrealism', 'Expressionism', 'Expressionism', 'Expressionism', 'Impressionism', 'Surrealism', 'Impressionism', 'Surrealism', 'Impressionism', 'Expressionism', 'Impressionism', 'Surrealism', 'Expressionism', 'Expressionism', 'Surrealism', 'Surrealism', 'Surrealism', 'Impressionism', 'Expressionism', 'Expressionism', 'Expressionism', 'Expressionism', 'Impressionism', 'Expressionism', 'Expressionism', 'Expressionism', 'Expressionism', 'Expressionism', 'Impressionism', 'Expressionism', 'Surrealism', 'Surrealism', 'Expressionism', 'Expressionism', 'Surrealism', 'Surrealism', 'Expressionism', 'Expressionism', 'Impressionism', 'Surrealism', 'Impressionism', 'Surrealism', 'Surrealism', 'Surrealism', 'Surrealism', 'Impressionism', 'Surrealism', 'Surrealism', 'Surrealism', 'Impressionism', 'Impressionism', 'Impressionism', 'Impressionism', 'Surrealism', 'Impressionism', 'Surrealism', 'Surrealism', 'Impressionism', 'Surrealism', 'Surrealism', 'Impressionism', 'Impressionism', 'Impressionism', 'Surrealism', 'Impressionism', 'Surrealism', 'Impressionism', 'Expressionism', 'Expressionism', 'Expressionism', 'Impressionism', 'Surrealism', 'Impressionism', 'Surrealism', 'Expressionism', 'Surrealism', 'Impressionism', 'Impressionism', 'Surrealism', 'Surrealism', 'Impressionism', 'Surrealism', 'Impressionism', 'Surrealism', 'Expressionism', 'Surrealism', 'Surrealism', 'Impressionism', 'Impressionism', 'Surrealism', 'Impressionism', 'Surrealism', 'Impressionism', 'Impressionism', 'Surrealism', 'Impressionism', 'Impressionism', 'Impressionism', 'Impressionism', 'Expressionism', 'Impressionism', 'Surrealism', 'Surrealism', 'Impressionism', 'Impressionism', 'Impressionism', 'Expressionism', 'Surrealism', 'Surrealism', 'Surrealism', 'Expressionism', 'Surrealism', 'Impressionism', 'Surrealism', 'Surrealism', 'Impressionism', 'Impressionism', 'Impressionism', 'Surrealism', 'Impressionism', 'Surrealism', 'Surrealism', 'Impressionism', 'Impressionism', 'Surrealism', 'Expressionism', 'Surrealism', 'Surrealism', 'Expressionism', 'Expressionism', 'Surrealism', 'Surrealism', 'Impressionism', 'Impressionism', 'Surrealism', 'Surrealism', 'Impressionism', 'Expressionism', 'Impressionism', 'Surrealism', 'Surrealism', 'Impressionism', 'Expressionism', 'Impressionism', 'Surrealism', 'Impressionism', 'Surrealism', 'Impressionism', 'Impressionism', 'Expressionism', 'Expressionism', 'Expressionism', 'Impressionism', 'Impressionism', 'Surrealism', 'Impressionism', 'Impressionism', 'Impressionism', 'Impressionism', 'Surrealism', 'Expressionism', 'Impressionism', 'Impressionism', 'Surrealism', 'Expressionism', 'Impressionism', 'Impressionism', 'Surrealism', 'Impressionism', 'Surrealism', 'Surrealism', 'Surrealism', 'Surrealism', 'Expressionism', 'Surrealism', 'Surrealism', 'Impressionism', 'Impressionism', 'Expressionism', 'Surrealism', 'Impressionism', 'Impressionism', 'Impressionism', 'Impressionism', 'Impressionism', 'Impressionism', 'Surrealism', 'Expressionism', 'Surrealism', 'Expressionism', 'Impressionism', 'Surrealism', 'Expressionism', 'Impressionism', 'Surrealism', 'Impressionism', 'Expressionism', 'Impressionism', 'Impressionism', 'Expressionism', 'Surrealism', 'Expressionism', 'Expressionism', 'Impressionism', 'Impressionism', 'Expressionism', 'Expressionism', 'Expressionism', 'Expressionism', 'Surrealism', 'Expressionism', 'Expressionism', 'Expressionism', 'Impressionism', 'Surrealism', 'Impressionism', 'Expressionism', 'Surrealism', 'Expressionism', 'Expressionism', 'Expressionism', 'Surrealism', 'Expressionism', 'Expressionism', 'Expressionism', 'Expressionism', 'Expressionism', 'Impressionism', 'Impressionism', 'Expressionism', 'Expressionism', 'Impressionism', 'Impressionism', 'Expressionism', 'Surrealism', 'Impressionism', 'Impressionism', 'Impressionism', 'Impressionism', 'Impressionism', 'Surrealism', 'Impressionism', 'Impressionism', 'Impressionism', 'Impressionism', 'Impressionism', 'Expressionism', 'Expressionism', 'Expressionism', 'Expressionism', 'Surrealism', 'Impressionism', 'Surrealism', 'Surrealism', 'Expressionism', 'Surrealism', 'Expressionism', 'Surrealism', 'Expressionism', 'Surrealism', 'Expressionism', 'Surrealism', 'Impressionism', 'Surrealism', 'Impressionism', 'Surrealism', 'Impressionism', 'Impressionism', 'Surrealism', 'Impressionism', 'Impressionism', 'Impressionism', 'Surrealism', 'Impressionism', 'Expressionism', 'Surrealism', 'Expressionism', 'Impressionism', 'Surrealism', 'Impressionism', 'Impressionism', 'Surrealism', 'Surrealism', 'Surrealism', 'Surrealism', 'Surrealism', 'Expressionism', 'Surrealism', 'Expressionism', 'Surrealism', 'Impressionism', 'Expressionism', 'Expressionism', 'Impressionism', 'Impressionism', 'Impressionism', 'Expressionism', 'Impressionism', 'Expressionism', 'Expressionism', 'Surrealism', 'Expressionism', 'Surrealism', 'Surrealism', 'Surrealism', 'Expressionism', 'Expressionism', 'Impressionism', 'Expressionism', 'Impressionism', 'Impressionism', 'Expressionism', 'Impressionism', 'Expressionism', 'Surrealism', 'Surrealism', 'Expressionism', 'Surrealism', 'Impressionism', 'Impressionism', 'Impressionism', 'Impressionism', 'Impressionism', 'Expressionism', 'Impressionism', 'Expressionism', 'Surrealism', 'Expressionism', 'Impressionism', 'Surrealism', 'Surrealism', 'Surrealism', 'Expressionism', 'Surrealism', 'Impressionism', 'Surrealism', 'Surrealism', 'Impressionism', 'Surrealism', 'Impressionism', 'Surrealism', 'Expressionism', 'Impressionism', 'Expressionism', 'Impressionism', 'Impressionism', 'Impressionism', 'Expressionism', 'Impressionism', 'Expressionism', 'Surrealism', 'Impressionism', 'Impressionism', 'Impressionism', 'Impressionism', 'Surrealism', 'Impressionism', 'Surrealism', 'Surrealism', 'Expressionism', 'Surrealism', 'Impressionism', 'Surrealism', 'Impressionism', 'Impressionism', 'Expressionism', 'Surrealism', 'Impressionism', 'Surrealism', 'Impressionism', 'Surrealism', 'Surrealism']\n",
            "['Expressionism', 'Expressionism', 'Expressionism', 'Expressionism', 'Expressionism', 'Expressionism', 'Expressionism', 'Expressionism', 'Expressionism', 'Impressionism', 'Expressionism', 'Expressionism', 'Expressionism', 'Expressionism', 'Expressionism', 'Impressionism', 'Expressionism', 'Expressionism', 'Expressionism', 'Expressionism', 'Expressionism', 'Expressionism', 'Expressionism', 'Expressionism', 'Expressionism', 'Impressionism', 'Surrealism', 'Expressionism', 'Expressionism', 'Expressionism', 'Expressionism', 'Expressionism', 'Expressionism', 'Surrealism', 'Impressionism', 'Expressionism', 'Expressionism', 'Expressionism', 'Expressionism', 'Surrealism', 'Expressionism', 'Expressionism', 'Expressionism', 'Expressionism', 'Expressionism', 'Expressionism', 'Expressionism', 'Surrealism', 'Impressionism', 'Expressionism', 'Expressionism', 'Impressionism', 'Expressionism', 'Expressionism', 'Impressionism', 'Surrealism', 'Impressionism', 'Expressionism', 'Surrealism', 'Impressionism', 'Surrealism', 'Surrealism', 'Impressionism', 'Impressionism', 'Impressionism', 'Impressionism', 'Impressionism', 'Surrealism', 'Expressionism', 'Surrealism', 'Expressionism', 'Expressionism', 'Expressionism', 'Impressionism', 'Expressionism', 'Expressionism', 'Expressionism', 'Expressionism', 'Expressionism', 'Surrealism', 'Surrealism', 'Impressionism', 'Surrealism', 'Surrealism', 'Surrealism', 'Impressionism', 'Surrealism', 'Surrealism', 'Expressionism', 'Expressionism', 'Surrealism', 'Impressionism', 'Expressionism', 'Surrealism', 'Expressionism', 'Expressionism', 'Surrealism', 'Impressionism', 'Expressionism', 'Expressionism', 'Expressionism', 'Expressionism', 'Expressionism', 'Impressionism', 'Impressionism', 'Expressionism', 'Surrealism', 'Impressionism', 'Impressionism', 'Surrealism', 'Expressionism', 'Expressionism', 'Expressionism', 'Expressionism', 'Expressionism', 'Expressionism', 'Impressionism', 'Impressionism', 'Expressionism', 'Expressionism', 'Expressionism', 'Expressionism', 'Expressionism', 'Expressionism', 'Surrealism', 'Impressionism', 'Expressionism', 'Expressionism', 'Impressionism', 'Surrealism', 'Surrealism', 'Expressionism', 'Surrealism', 'Expressionism', 'Expressionism', 'Surrealism', 'Expressionism', 'Expressionism', 'Expressionism', 'Expressionism', 'Expressionism', 'Expressionism', 'Expressionism', 'Expressionism', 'Expressionism', 'Expressionism', 'Expressionism', 'Impressionism', 'Expressionism', 'Expressionism', 'Expressionism', 'Surrealism', 'Expressionism', 'Expressionism', 'Expressionism', 'Expressionism', 'Surrealism', 'Expressionism', 'Impressionism', 'Surrealism', 'Expressionism', 'Expressionism', 'Expressionism', 'Impressionism', 'Expressionism', 'Impressionism', 'Surrealism', 'Expressionism', 'Expressionism', 'Expressionism', 'Impressionism', 'Surrealism', 'Impressionism', 'Surrealism', 'Surrealism', 'Expressionism', 'Surrealism', 'Surrealism', 'Expressionism', 'Impressionism', 'Surrealism', 'Impressionism', 'Expressionism', 'Surrealism', 'Impressionism', 'Surrealism', 'Impressionism', 'Impressionism', 'Impressionism', 'Impressionism', 'Expressionism', 'Surrealism', 'Expressionism', 'Impressionism', 'Surrealism', 'Surrealism', 'Surrealism', 'Expressionism', 'Surrealism', 'Impressionism', 'Surrealism', 'Expressionism', 'Expressionism', 'Impressionism', 'Impressionism', 'Impressionism', 'Surrealism', 'Impressionism', 'Surrealism', 'Surrealism', 'Expressionism', 'Expressionism', 'Impressionism', 'Impressionism', 'Expressionism', 'Surrealism', 'Surrealism', 'Expressionism', 'Surrealism', 'Expressionism', 'Surrealism', 'Expressionism', 'Expressionism', 'Expressionism', 'Expressionism', 'Expressionism', 'Impressionism', 'Surrealism', 'Expressionism', 'Expressionism', 'Expressionism', 'Surrealism', 'Expressionism', 'Surrealism', 'Impressionism', 'Impressionism', 'Impressionism', 'Impressionism', 'Impressionism', 'Impressionism', 'Expressionism', 'Impressionism', 'Impressionism', 'Impressionism', 'Impressionism', 'Surrealism', 'Impressionism', 'Impressionism', 'Surrealism', 'Impressionism', 'Impressionism', 'Impressionism', 'Expressionism', 'Impressionism', 'Surrealism', 'Impressionism', 'Surrealism', 'Expressionism', 'Surrealism', 'Expressionism', 'Expressionism', 'Expressionism', 'Expressionism', 'Expressionism', 'Impressionism', 'Impressionism', 'Expressionism', 'Expressionism', 'Surrealism', 'Surrealism', 'Expressionism', 'Impressionism', 'Expressionism', 'Expressionism', 'Expressionism', 'Expressionism', 'Expressionism', 'Expressionism', 'Expressionism', 'Expressionism', 'Surrealism', 'Expressionism', 'Surrealism', 'Surrealism', 'Impressionism', 'Impressionism', 'Impressionism', 'Surrealism', 'Impressionism', 'Expressionism', 'Expressionism', 'Expressionism', 'Impressionism', 'Surrealism', 'Expressionism', 'Surrealism', 'Expressionism', 'Surrealism', 'Impressionism', 'Surrealism', 'Surrealism', 'Surrealism', 'Surrealism', 'Expressionism', 'Surrealism', 'Impressionism', 'Expressionism', 'Surrealism', 'Expressionism', 'Surrealism', 'Expressionism', 'Expressionism', 'Surrealism', 'Expressionism', 'Expressionism', 'Expressionism', 'Expressionism', 'Expressionism', 'Surrealism', 'Expressionism', 'Expressionism', 'Expressionism', 'Expressionism', 'Expressionism', 'Expressionism', 'Surrealism', 'Expressionism', 'Impressionism', 'Expressionism', 'Expressionism', 'Surrealism', 'Expressionism', 'Expressionism', 'Expressionism', 'Expressionism', 'Expressionism', 'Expressionism', 'Surrealism', 'Surrealism', 'Impressionism', 'Surrealism', 'Surrealism', 'Surrealism', 'Impressionism', 'Impressionism', 'Expressionism', 'Surrealism', 'Expressionism', 'Impressionism', 'Impressionism', 'Impressionism', 'Surrealism', 'Impressionism', 'Surrealism', 'Impressionism', 'Impressionism', 'Expressionism', 'Impressionism', 'Surrealism', 'Surrealism', 'Impressionism', 'Expressionism', 'Expressionism', 'Surrealism', 'Expressionism', 'Expressionism', 'Expressionism', 'Expressionism', 'Expressionism', 'Expressionism', 'Expressionism', 'Expressionism', 'Expressionism', 'Expressionism', 'Impressionism', 'Expressionism', 'Impressionism', 'Impressionism', 'Impressionism', 'Expressionism', 'Expressionism', 'Expressionism', 'Expressionism', 'Expressionism', 'Surrealism', 'Surrealism', 'Surrealism', 'Impressionism', 'Expressionism', 'Expressionism', 'Impressionism', 'Surrealism', 'Expressionism', 'Surrealism', 'Surrealism', 'Expressionism', 'Surrealism', 'Impressionism', 'Impressionism', 'Surrealism', 'Surrealism', 'Surrealism', 'Impressionism', 'Impressionism', 'Surrealism', 'Expressionism', 'Surrealism', 'Impressionism', 'Surrealism', 'Surrealism', 'Impressionism', 'Expressionism', 'Impressionism', 'Impressionism', 'Expressionism', 'Surrealism', 'Surrealism', 'Surrealism', 'Impressionism', 'Surrealism', 'Surrealism', 'Expressionism', 'Impressionism', 'Surrealism', 'Expressionism', 'Impressionism', 'Surrealism', 'Expressionism', 'Impressionism', 'Impressionism', 'Impressionism', 'Surrealism', 'Surrealism', 'Surrealism', 'Surrealism', 'Expressionism', 'Surrealism', 'Surrealism', 'Surrealism', 'Impressionism', 'Impressionism', 'Surrealism', 'Expressionism', 'Impressionism', 'Impressionism', 'Surrealism', 'Impressionism', 'Surrealism', 'Surrealism', 'Surrealism', 'Impressionism', 'Impressionism', 'Impressionism', 'Impressionism', 'Surrealism', 'Impressionism', 'Surrealism', 'Expressionism', 'Impressionism', 'Expressionism', 'Impressionism', 'Surrealism', 'Surrealism', 'Surrealism', 'Impressionism', 'Surrealism', 'Impressionism', 'Surrealism', 'Impressionism', 'Surrealism', 'Surrealism', 'Impressionism', 'Impressionism', 'Surrealism', 'Impressionism', 'Expressionism', 'Surrealism', 'Surrealism', 'Surrealism', 'Surrealism', 'Surrealism', 'Impressionism', 'Impressionism', 'Surrealism', 'Surrealism', 'Expressionism', 'Surrealism', 'Impressionism', 'Impressionism', 'Surrealism', 'Impressionism', 'Surrealism', 'Surrealism', 'Impressionism', 'Surrealism', 'Expressionism', 'Surrealism', 'Surrealism', 'Surrealism', 'Expressionism', 'Surrealism', 'Impressionism', 'Impressionism', 'Impressionism', 'Impressionism', 'Impressionism', 'Expressionism', 'Surrealism', 'Expressionism', 'Surrealism', 'Surrealism', 'Expressionism', 'Expressionism', 'Expressionism', 'Impressionism', 'Expressionism', 'Impressionism', 'Impressionism', 'Expressionism', 'Surrealism', 'Expressionism', 'Impressionism', 'Surrealism', 'Impressionism', 'Impressionism', 'Expressionism', 'Surrealism', 'Surrealism', 'Surrealism', 'Surrealism', 'Surrealism', 'Surrealism', 'Surrealism', 'Impressionism', 'Impressionism', 'Surrealism', 'Impressionism', 'Surrealism', 'Impressionism', 'Surrealism', 'Surrealism', 'Impressionism', 'Impressionism', 'Surrealism', 'Surrealism', 'Impressionism', 'Expressionism', 'Expressionism', 'Expressionism', 'Surrealism', 'Expressionism', 'Impressionism', 'Expressionism', 'Impressionism', 'Impressionism', 'Expressionism', 'Expressionism', 'Expressionism', 'Expressionism', 'Expressionism', 'Surrealism', 'Expressionism', 'Expressionism', 'Expressionism', 'Expressionism', 'Expressionism', 'Impressionism', 'Surrealism', 'Surrealism', 'Surrealism', 'Impressionism', 'Impressionism', 'Surrealism', 'Impressionism', 'Surrealism', 'Impressionism', 'Expressionism', 'Expressionism', 'Surrealism', 'Surrealism', 'Surrealism', 'Impressionism', 'Surrealism', 'Surrealism', 'Impressionism', 'Impressionism', 'Expressionism', 'Surrealism', 'Expressionism', 'Impressionism', 'Surrealism', 'Impressionism', 'Expressionism', 'Impressionism', 'Surrealism', 'Expressionism', 'Expressionism', 'Impressionism', 'Surrealism', 'Expressionism', 'Expressionism', 'Surrealism', 'Impressionism', 'Impressionism', 'Surrealism', 'Impressionism', 'Surrealism', 'Surrealism', 'Surrealism', 'Impressionism', 'Impressionism', 'Surrealism', 'Impressionism', 'Expressionism', 'Impressionism', 'Expressionism', 'Expressionism', 'Expressionism', 'Expressionism', 'Impressionism', 'Expressionism', 'Expressionism', 'Expressionism', 'Impressionism', 'Impressionism', 'Impressionism', 'Expressionism', 'Expressionism', 'Surrealism', 'Impressionism', 'Surrealism', 'Expressionism', 'Impressionism', 'Expressionism', 'Surrealism', 'Impressionism', 'Surrealism', 'Surrealism', 'Impressionism', 'Surrealism', 'Surrealism', 'Impressionism', 'Surrealism', 'Surrealism', 'Impressionism', 'Expressionism', 'Impressionism', 'Impressionism', 'Impressionism', 'Expressionism', 'Expressionism', 'Expressionism', 'Impressionism', 'Impressionism', 'Impressionism', 'Surrealism', 'Expressionism', 'Surrealism', 'Surrealism', 'Expressionism', 'Impressionism', 'Surrealism', 'Expressionism', 'Expressionism', 'Expressionism', 'Expressionism', 'Surrealism', 'Impressionism', 'Impressionism', 'Impressionism', 'Expressionism', 'Impressionism', 'Surrealism', 'Expressionism', 'Surrealism', 'Impressionism', 'Surrealism', 'Impressionism', 'Impressionism', 'Expressionism', 'Impressionism', 'Expressionism', 'Surrealism', 'Impressionism', 'Surrealism', 'Impressionism', 'Impressionism', 'Surrealism', 'Impressionism', 'Impressionism', 'Impressionism', 'Surrealism', 'Surrealism', 'Impressionism', 'Impressionism', 'Expressionism', 'Surrealism', 'Expressionism', 'Surrealism', 'Impressionism', 'Surrealism', 'Surrealism', 'Surrealism', 'Surrealism', 'Impressionism', 'Impressionism', 'Impressionism', 'Surrealism', 'Impressionism', 'Surrealism', 'Surrealism', 'Impressionism', 'Impressionism', 'Surrealism', 'Impressionism', 'Impressionism', 'Surrealism', 'Surrealism', 'Surrealism', 'Surrealism', 'Surrealism', 'Impressionism', 'Impressionism', 'Surrealism', 'Impressionism', 'Impressionism', 'Impressionism', 'Surrealism', 'Impressionism', 'Surrealism', 'Impressionism', 'Surrealism', 'Impressionism', 'Surrealism', 'Impressionism', 'Surrealism', 'Surrealism', 'Surrealism', 'Surrealism', 'Impressionism', 'Impressionism', 'Impressionism', 'Impressionism', 'Surrealism', 'Surrealism', 'Impressionism', 'Impressionism', 'Impressionism', 'Surrealism', 'Expressionism', 'Impressionism', 'Surrealism', 'Impressionism', 'Impressionism', 'Surrealism', 'Expressionism', 'Surrealism', 'Surrealism', 'Surrealism', 'Surrealism', 'Surrealism', 'Impressionism', 'Impressionism', 'Expressionism', 'Impressionism', 'Surrealism', 'Surrealism', 'Impressionism', 'Impressionism', 'Surrealism', 'Impressionism', 'Surrealism', 'Impressionism', 'Impressionism', 'Expressionism', 'Surrealism', 'Impressionism', 'Impressionism', 'Surrealism', 'Expressionism', 'Surrealism', 'Surrealism', 'Impressionism', 'Impressionism', 'Impressionism', 'Surrealism', 'Impressionism', 'Impressionism', 'Impressionism', 'Expressionism', 'Expressionism', 'Surrealism', 'Expressionism', 'Surrealism', 'Impressionism', 'Surrealism', 'Surrealism', 'Expressionism', 'Surrealism', 'Expressionism', 'Impressionism', 'Surrealism', 'Surrealism', 'Impressionism', 'Surrealism', 'Expressionism', 'Surrealism', 'Expressionism', 'Expressionism', 'Expressionism', 'Impressionism', 'Expressionism', 'Impressionism', 'Surrealism', 'Expressionism', 'Expressionism', 'Surrealism', 'Surrealism', 'Surrealism', 'Impressionism', 'Surrealism', 'Expressionism', 'Surrealism', 'Expressionism', 'Expressionism', 'Surrealism', 'Surrealism', 'Impressionism', 'Surrealism', 'Expressionism', 'Expressionism', 'Expressionism', 'Impressionism', 'Surrealism', 'Impressionism', 'Surrealism', 'Impressionism', 'Expressionism', 'Impressionism', 'Surrealism', 'Expressionism', 'Expressionism', 'Surrealism', 'Surrealism', 'Surrealism', 'Impressionism', 'Expressionism', 'Expressionism', 'Expressionism', 'Expressionism', 'Impressionism', 'Expressionism', 'Expressionism', 'Expressionism', 'Expressionism', 'Expressionism', 'Impressionism', 'Expressionism', 'Surrealism', 'Surrealism', 'Expressionism', 'Expressionism', 'Surrealism', 'Surrealism', 'Expressionism', 'Expressionism', 'Impressionism', 'Surrealism', 'Impressionism', 'Surrealism', 'Surrealism', 'Surrealism', 'Surrealism', 'Impressionism', 'Surrealism', 'Surrealism', 'Surrealism', 'Impressionism', 'Impressionism', 'Impressionism', 'Impressionism', 'Surrealism', 'Impressionism', 'Surrealism', 'Surrealism', 'Impressionism', 'Surrealism', 'Surrealism', 'Impressionism', 'Impressionism', 'Impressionism', 'Surrealism', 'Impressionism', 'Surrealism', 'Impressionism', 'Expressionism', 'Expressionism', 'Expressionism', 'Impressionism', 'Surrealism', 'Impressionism', 'Surrealism', 'Expressionism', 'Surrealism', 'Impressionism', 'Impressionism', 'Surrealism', 'Surrealism', 'Impressionism', 'Surrealism', 'Impressionism', 'Surrealism', 'Expressionism', 'Surrealism', 'Surrealism', 'Impressionism', 'Impressionism', 'Surrealism', 'Impressionism', 'Surrealism', 'Impressionism', 'Impressionism', 'Surrealism', 'Impressionism', 'Impressionism', 'Impressionism', 'Impressionism', 'Expressionism', 'Impressionism', 'Surrealism', 'Surrealism', 'Impressionism', 'Impressionism', 'Impressionism', 'Expressionism', 'Surrealism', 'Surrealism', 'Surrealism', 'Expressionism', 'Surrealism', 'Impressionism', 'Surrealism', 'Surrealism', 'Impressionism', 'Impressionism', 'Impressionism', 'Surrealism', 'Impressionism', 'Surrealism', 'Surrealism', 'Impressionism', 'Impressionism', 'Surrealism', 'Expressionism', 'Surrealism', 'Surrealism', 'Expressionism', 'Expressionism', 'Surrealism', 'Surrealism', 'Impressionism', 'Impressionism', 'Surrealism', 'Surrealism', 'Impressionism', 'Expressionism', 'Impressionism', 'Surrealism', 'Surrealism', 'Impressionism', 'Expressionism', 'Impressionism', 'Surrealism', 'Impressionism', 'Surrealism', 'Impressionism', 'Impressionism', 'Expressionism', 'Expressionism', 'Expressionism', 'Impressionism', 'Impressionism', 'Surrealism', 'Impressionism', 'Impressionism', 'Impressionism', 'Impressionism', 'Surrealism', 'Expressionism', 'Impressionism', 'Impressionism', 'Surrealism', 'Expressionism', 'Impressionism', 'Impressionism', 'Surrealism', 'Impressionism', 'Surrealism', 'Surrealism', 'Surrealism', 'Surrealism', 'Expressionism', 'Surrealism', 'Surrealism', 'Impressionism', 'Impressionism', 'Expressionism', 'Surrealism', 'Impressionism', 'Impressionism', 'Impressionism', 'Impressionism', 'Impressionism', 'Impressionism', 'Surrealism', 'Expressionism', 'Surrealism', 'Expressionism', 'Impressionism', 'Surrealism', 'Expressionism', 'Impressionism', 'Surrealism', 'Impressionism', 'Expressionism', 'Impressionism', 'Impressionism', 'Expressionism', 'Surrealism', 'Expressionism', 'Expressionism', 'Impressionism', 'Impressionism', 'Expressionism', 'Expressionism', 'Expressionism', 'Expressionism', 'Surrealism', 'Expressionism', 'Expressionism', 'Expressionism', 'Impressionism', 'Surrealism', 'Impressionism', 'Expressionism', 'Surrealism', 'Expressionism', 'Expressionism', 'Expressionism', 'Surrealism', 'Expressionism', 'Expressionism', 'Expressionism', 'Expressionism', 'Expressionism', 'Impressionism', 'Impressionism', 'Expressionism', 'Expressionism', 'Impressionism', 'Impressionism', 'Expressionism', 'Surrealism', 'Impressionism', 'Impressionism', 'Impressionism', 'Impressionism', 'Impressionism', 'Surrealism', 'Impressionism', 'Impressionism', 'Impressionism', 'Impressionism', 'Impressionism', 'Expressionism', 'Expressionism', 'Expressionism', 'Expressionism', 'Surrealism', 'Impressionism', 'Surrealism', 'Surrealism', 'Expressionism', 'Surrealism', 'Expressionism', 'Surrealism', 'Expressionism', 'Surrealism', 'Expressionism', 'Surrealism', 'Impressionism', 'Surrealism', 'Impressionism', 'Surrealism', 'Impressionism', 'Impressionism', 'Surrealism', 'Impressionism', 'Impressionism', 'Impressionism', 'Surrealism', 'Impressionism', 'Expressionism', 'Surrealism', 'Expressionism', 'Impressionism', 'Surrealism', 'Impressionism', 'Impressionism', 'Surrealism', 'Surrealism', 'Surrealism', 'Surrealism', 'Surrealism', 'Expressionism', 'Surrealism', 'Expressionism', 'Surrealism', 'Impressionism', 'Expressionism', 'Expressionism', 'Impressionism', 'Impressionism', 'Impressionism', 'Expressionism', 'Impressionism', 'Expressionism', 'Expressionism', 'Surrealism', 'Expressionism', 'Surrealism', 'Surrealism', 'Surrealism', 'Expressionism', 'Expressionism', 'Impressionism', 'Expressionism', 'Impressionism', 'Impressionism', 'Expressionism', 'Impressionism', 'Expressionism', 'Surrealism', 'Surrealism', 'Expressionism', 'Surrealism', 'Impressionism', 'Impressionism', 'Impressionism', 'Impressionism', 'Impressionism', 'Expressionism', 'Impressionism', 'Expressionism', 'Surrealism', 'Expressionism', 'Impressionism', 'Surrealism', 'Surrealism', 'Surrealism', 'Expressionism', 'Surrealism', 'Impressionism', 'Surrealism', 'Surrealism', 'Impressionism', 'Surrealism', 'Impressionism', 'Surrealism', 'Expressionism', 'Impressionism', 'Expressionism', 'Impressionism', 'Impressionism', 'Impressionism', 'Expressionism', 'Impressionism', 'Expressionism', 'Surrealism', 'Impressionism', 'Impressionism', 'Impressionism', 'Impressionism', 'Surrealism', 'Impressionism', 'Surrealism', 'Surrealism', 'Expressionism', 'Surrealism', 'Impressionism', 'Surrealism', 'Impressionism', 'Impressionism', 'Expressionism', 'Surrealism', 'Impressionism', 'Surrealism', 'Impressionism', 'Surrealism', 'Surrealism']\n",
            "Saved in a .pkl file\n"
          ],
          "name": "stdout"
        }
      ]
    },
    {
      "cell_type": "code",
      "metadata": {
        "id": "tEl4HKh2hRGQ",
        "colab_type": "code",
        "outputId": "b8fc3085-7e37-4fea-95db-1132ef52bd26",
        "colab": {
          "base_uri": "https://localhost:8080/",
          "height": 34
        }
      },
      "source": [
        "prepare_data()"
      ],
      "execution_count": 0,
      "outputs": [
        {
          "output_type": "stream",
          "text": [
            "Saved in a .npz file\n"
          ],
          "name": "stdout"
        }
      ]
    },
    {
      "cell_type": "markdown",
      "metadata": {
        "id": "GaZOGFPxIoZw",
        "colab_type": "text"
      },
      "source": [
        "# Train Model"
      ]
    },
    {
      "cell_type": "code",
      "metadata": {
        "id": "a2OryjYEIqzY",
        "colab_type": "code",
        "outputId": "5d0fe744-6684-46bf-becf-74cf0788a5f9",
        "colab": {
          "base_uri": "https://localhost:8080/",
          "height": 34
        }
      },
      "source": [
        "import numpy as np\n",
        "import pandas as pd\n",
        "from random import sample\n",
        "import pickle, cv2\n",
        "from matplotlib.pyplot import imread\n",
        "import matplotlib.pyplot as plt\n",
        "from skimage.transform import resize\n",
        "from sklearn.model_selection import train_test_split\n",
        "from keras import applications, optimizers\n",
        "from keras.models import Sequential, Model\n",
        "from keras.layers import Dropout, Flatten, Dense\n",
        "from keras.utils import np_utils\n",
        "from keras.models import model_from_json\n",
        "from keras.models import load_model\n",
        "from keras.utils import plot_model\n",
        "import json"
      ],
      "execution_count": 0,
      "outputs": [
        {
          "output_type": "stream",
          "text": [
            "Using TensorFlow backend.\n"
          ],
          "name": "stderr"
        }
      ]
    },
    {
      "cell_type": "code",
      "metadata": {
        "id": "I8sJ522LJBla",
        "colab_type": "code",
        "colab": {}
      },
      "source": [
        "def train_validation_split(x, y):\n",
        "    X_training, X_test, y_training, y_test = train_test_split(x, y, stratify=y, random_state=1337)\n",
        "    X_train, X_val, y_train, y_val = train_test_split(X_training, y_training, stratify=y_training, random_state=42)\n",
        "\n",
        "    return X_train, X_val, X_test, y_train, y_val, y_test"
      ],
      "execution_count": 0,
      "outputs": []
    },
    {
      "cell_type": "code",
      "metadata": {
        "id": "Rq70zqNHJWgC",
        "colab_type": "code",
        "colab": {}
      },
      "source": [
        "def one_hot(y_train, y_val, y_test, n_classes):\n",
        "    y_train = np_utils.to_categorical(y_train, n_classes)\n",
        "    y_val = np_utils.to_categorical(y_val, n_classes)\n",
        "    y_test = np_utils.to_categorical(y_test, n_classes)\n",
        "\n",
        "    return y_train, y_val, y_test"
      ],
      "execution_count": 0,
      "outputs": []
    },
    {
      "cell_type": "code",
      "metadata": {
        "id": "sQSeWtLkJZvx",
        "colab_type": "code",
        "colab": {}
      },
      "source": [
        "def build_fit_save_cnn(input_shape, n_classes, epochs, batch_size, X_train, X_val, y_train, y_val):\n",
        "    base_model = applications.ResNet50(weights='imagenet', include_top=False, input_shape=input_shape)\n",
        "\n",
        "    add_model = Sequential()\n",
        "    add_model.add(Flatten(input_shape=base_model.output_shape[1:]))\n",
        "    add_model.add(Dense(512, activation='relu'))\n",
        "    add_model.add(Dense(512, activation='relu'))\n",
        "    add_model.add(Dropout(0.25))\n",
        "    add_model.add(Dense(n_classes, activation='softmax'))\n",
        "\n",
        "    # combine base model and fully connected layers\n",
        "    final_model = Model(inputs=base_model.input, outputs=add_model(base_model.output))\n",
        "\n",
        "    # specify SDG optimizer parameters\n",
        "    sgd = optimizers.SGD(lr=0.001, decay=1e-6, momentum=0.9, nesterov=True)\n",
        "\n",
        "    # compile model\n",
        "    final_model.compile(loss='categorical_crossentropy', optimizer=sgd, metrics=['accuracy'])\n",
        "\n",
        "    history = final_model.fit(X_train, y_train, batch_size=batch_size, epochs=epochs, verbose=1, validation_data=(X_val, y_val))\n",
        "\n",
        "    score = final_model.evaluate(X_val, y_val, verbose=0)\n",
        "    print('Val. score:', score[0])\n",
        "    print('Val. accuracy:', score[1])\n",
        "    \n",
        "    plot_model(final_model, to_file='drive/ML-Kaggle/CNN-ResNet50-Kaggle-Model.svg')\n",
        "    show_history(history)\n",
        "    save_model(final_model,history)\n",
        "\n",
        "    return final_model"
      ],
      "execution_count": 0,
      "outputs": []
    },
    {
      "cell_type": "code",
      "metadata": {
        "id": "PTM-QbuHMS2i",
        "colab_type": "code",
        "colab": {}
      },
      "source": [
        "def test_predict_score(model, X_test, y_test):\n",
        "    score = model.evaluate(X_test, y_test, verbose=0)\n",
        "    test_pred = model.predict(X_test)\n",
        "\n",
        "    print('Test score:', score[0])\n",
        "    print('Test accuracy:', score[1])\n",
        "\n",
        "    return test_pred, score"
      ],
      "execution_count": 0,
      "outputs": []
    },
    {
      "cell_type": "code",
      "metadata": {
        "id": "L4OgbH3GMfP5",
        "colab_type": "code",
        "colab": {}
      },
      "source": [
        "def save_model(model,history):\n",
        "    \n",
        "    open('drive/ML-Kaggle/Saved_models/CNN-ResNet50-Kaggle.json', 'w').close()\n",
        "    open('drive/ML-Kaggle/Saved_models/CNN-ResNet50-Kaggle-weights.h5', 'w').close()\n",
        "    \n",
        "    model_json = model.to_json()\n",
        "    with open('drive/ML-Kaggle/Saved_models/CNN-ResNet50-Kaggle.json', 'w') as json_file:\n",
        "        json_file.write(model_json)\n",
        "\n",
        "    model.save_weights('drive/ML-Kaggle/Saved_models/CNN-ResNet50-Kaggle-weights.h5')\n",
        "    print('Model saved to disk!')\n",
        "    \n",
        "    with open('drive/ML-Kaggle/Data/CNN-ResNet50-Kaggle-History.json', 'w') as f:\n",
        "        json.dump(history.history, f)\n",
        "    print('History saved to disk!')"
      ],
      "execution_count": 0,
      "outputs": []
    },
    {
      "cell_type": "code",
      "metadata": {
        "id": "1dGU9jznQbcZ",
        "colab_type": "code",
        "colab": {}
      },
      "source": [
        "def show_history(history):\n",
        "    print(history.history.keys())\n",
        "\n",
        "    plt.plot(history.history['acc'])\n",
        "    plt.plot(history.history['val_acc'])\n",
        "    plt.title('model accuracy')\n",
        "    plt.ylabel('accuracy')\n",
        "    plt.xlabel('epoch')\n",
        "    plt.legend(['train', 'test'], loc='upper left')\n",
        "    plt.show()\n",
        "\n",
        "    plt.plot(history.history['loss'])\n",
        "    plt.plot(history.history['val_loss'])\n",
        "    plt.title('model loss')\n",
        "    plt.ylabel('loss')\n",
        "    plt.xlabel('epoch')\n",
        "    plt.legend(['train', 'test'], loc='upper left')\n",
        "    plt.show()"
      ],
      "execution_count": 0,
      "outputs": []
    },
    {
      "cell_type": "code",
      "metadata": {
        "id": "xfgCd3c3Rw5C",
        "colab_type": "code",
        "outputId": "b2ae593a-630a-48bc-f819-c51190c90879",
        "colab": {
          "base_uri": "https://localhost:8080/",
          "height": 1290
        }
      },
      "source": [
        "if __name__ == '__main__':\n",
        "    seed = 1337\n",
        "    np.random.seed(seed)\n",
        "\n",
        "    epochs = 10\n",
        "    batch_size = 25\n",
        "    input_shape = (224,224,3)\n",
        "\n",
        "    data = np.load('drive/ML-Kaggle/Data/images_labels_224.npz')\n",
        "    x = data['x']\n",
        "    y = data['y']\n",
        "    n_classes = len(np.unique(y))\n",
        "\n",
        "    X_train, X_val, X_test, y_train, y_val, y_test = train_validation_split(x, y)\n",
        "    y_train, y_val, y_test = one_hot(y_train, y_val, y_test, n_classes)\n",
        "    final_model = build_fit_save_cnn(input_shape, n_classes, epochs, batch_size, X_train, X_val, y_train, y_val)\n",
        "    test_pred, score = test_predict_score(final_model, X_test, y_test)"
      ],
      "execution_count": 0,
      "outputs": [
        {
          "output_type": "stream",
          "text": [
            "WARNING:tensorflow:From /usr/local/lib/python3.6/dist-packages/tensorflow/python/framework/op_def_library.py:263: colocate_with (from tensorflow.python.framework.ops) is deprecated and will be removed in a future version.\n",
            "Instructions for updating:\n",
            "Colocations handled automatically by placer.\n"
          ],
          "name": "stdout"
        },
        {
          "output_type": "stream",
          "text": [
            "/usr/local/lib/python3.6/dist-packages/keras_applications/resnet50.py:265: UserWarning: The output shape of `ResNet50(include_top=False)` has been changed since Keras 2.2.0.\n",
            "  warnings.warn('The output shape of `ResNet50(include_top=False)` '\n"
          ],
          "name": "stderr"
        },
        {
          "output_type": "stream",
          "text": [
            "Downloading data from https://github.com/fchollet/deep-learning-models/releases/download/v0.2/resnet50_weights_tf_dim_ordering_tf_kernels_notop.h5\n",
            "94658560/94653016 [==============================] - 3s 0us/step\n",
            "WARNING:tensorflow:From /usr/local/lib/python3.6/dist-packages/keras/backend/tensorflow_backend.py:3445: calling dropout (from tensorflow.python.ops.nn_ops) with keep_prob is deprecated and will be removed in a future version.\n",
            "Instructions for updating:\n",
            "Please use `rate` instead of `keep_prob`. Rate should be set to `rate = 1 - keep_prob`.\n",
            "WARNING:tensorflow:From /usr/local/lib/python3.6/dist-packages/tensorflow/python/ops/math_ops.py:3066: to_int32 (from tensorflow.python.ops.math_ops) is deprecated and will be removed in a future version.\n",
            "Instructions for updating:\n",
            "Use tf.cast instead.\n",
            "Train on 675 samples, validate on 225 samples\n",
            "Epoch 1/10\n",
            "675/675 [==============================] - 21s 32ms/step - loss: 1.1995 - acc: 0.5407 - val_loss: 0.9789 - val_acc: 0.5822\n",
            "Epoch 2/10\n",
            "675/675 [==============================] - 10s 14ms/step - loss: 0.1541 - acc: 0.9407 - val_loss: 0.7762 - val_acc: 0.6978\n",
            "Epoch 3/10\n",
            "675/675 [==============================] - 10s 14ms/step - loss: 0.0314 - acc: 0.9911 - val_loss: 0.8568 - val_acc: 0.7244\n",
            "Epoch 4/10\n",
            "675/675 [==============================] - 10s 14ms/step - loss: 0.0113 - acc: 0.9970 - val_loss: 1.0646 - val_acc: 0.7156\n",
            "Epoch 5/10\n",
            "675/675 [==============================] - 10s 14ms/step - loss: 0.0043 - acc: 1.0000 - val_loss: 0.8880 - val_acc: 0.7600\n",
            "Epoch 6/10\n",
            "675/675 [==============================] - 10s 14ms/step - loss: 0.0029 - acc: 1.0000 - val_loss: 0.9045 - val_acc: 0.7511\n",
            "Epoch 7/10\n",
            "675/675 [==============================] - 10s 15ms/step - loss: 0.0028 - acc: 1.0000 - val_loss: 0.8704 - val_acc: 0.7644\n",
            "Epoch 8/10\n",
            "675/675 [==============================] - 10s 15ms/step - loss: 0.0012 - acc: 1.0000 - val_loss: 0.8881 - val_acc: 0.7644\n",
            "Epoch 9/10\n",
            "675/675 [==============================] - 10s 15ms/step - loss: 0.0015 - acc: 1.0000 - val_loss: 0.8882 - val_acc: 0.7600\n",
            "Epoch 10/10\n",
            "675/675 [==============================] - 10s 15ms/step - loss: 9.5933e-04 - acc: 1.0000 - val_loss: 0.8941 - val_acc: 0.7556\n",
            "Val. score: 0.8941380402776931\n",
            "Val. accuracy: 0.7555555555555555\n",
            "dict_keys(['val_loss', 'val_acc', 'loss', 'acc'])\n"
          ],
          "name": "stdout"
        },
        {
          "output_type": "display_data",
          "data": {
            "image/png": "[encoded data removed]",
            "text/plain": [
              "<Figure size 432x288 with 1 Axes>"
            ]
          },
          "metadata": {
            "tags": []
          }
        },
        {
          "output_type": "display_data",
          "data": {
            "image/png": "[encoded data removed]",
            "text/plain": [
              "<Figure size 432x288 with 1 Axes>"
            ]
          },
          "metadata": {
            "tags": []
          }
        },
        {
          "output_type": "stream",
          "text": [
            "Model saved to disk!\n",
            "History saved to disk!\n",
            "Test score: 1.059684460957845\n",
            "Test accuracy: 0.7233333333333334\n"
          ],
          "name": "stdout"
        }
      ]
    },
    {
      "cell_type": "markdown",
      "metadata": {
        "id": "TO3oOYhaarln",
        "colab_type": "text"
      },
      "source": [
        "# Predict"
      ]
    },
    {
      "cell_type": "code",
      "metadata": {
        "id": "k7gogGm_a2dM",
        "colab_type": "code",
        "colab": {}
      },
      "source": [
        "import numpy as np\n",
        "from sys import argv\n",
        "from matplotlib.pyplot import imread\n",
        "import matplotlib.pyplot as plt\n",
        "from skimage.transform import resize\n",
        "import pickle, cv2\n",
        "from keras import optimizers\n",
        "from keras.models import load_model\n",
        "from keras.models import model_from_json"
      ],
      "execution_count": 0,
      "outputs": []
    },
    {
      "cell_type": "code",
      "metadata": {
        "id": "4ibYDhc6bGsP",
        "colab_type": "code",
        "colab": {}
      },
      "source": [
        "def load_model():\n",
        "    json_file = open('drive/ML-Kaggle/Saved_models/CNN-ResNet50-Kaggle.json', 'r')\n",
        "    loaded_model_json = json_file.read()\n",
        "    json_file.close()\n",
        "\n",
        "    loaded_model = model_from_json(loaded_model_json)\n",
        "    loaded_model.load_weights('drive/ML-Kaggle/Saved_models/CNN-ResNet50-Kaggle-weights.h5')\n",
        "\n",
        "    sgd = optimizers.SGD(lr=0.001, decay=1e-6, momentum=0.9, nesterov=True)\n",
        "    loaded_model.compile(loss='categorical_crossentropy', optimizer=sgd, metrics=['accuracy'])\n",
        "\n",
        "    return loaded_model"
      ],
      "execution_count": 0,
      "outputs": []
    },
    {
      "cell_type": "code",
      "metadata": {
        "id": "67KPrZ5WbKQG",
        "colab_type": "code",
        "colab": {}
      },
      "source": [
        "def make_prediction(img_path):\n",
        "    model = load_model()\n",
        "\n",
        "    with open('drive/ML-Kaggle/Data/class_dict.pkl', 'rb') as f:\n",
        "        class_dict = pickle.load(f)\n",
        "\n",
        "    image = cv2.imread(img_path, 1)\n",
        "    image = prepare_image(image)\n",
        "    images = []\n",
        "    images.append(image)\n",
        "    images = np.array(images)\n",
        "    image_size = 224\n",
        "    n_channels = 3\n",
        "    X_batch = images.reshape(1, image_size, image_size, n_channels)\n",
        "\n",
        "    preds = model.predict(X_batch)\n",
        "\n",
        "    top_3 = np.argpartition(preds[0], -3)[-3:]\n",
        "    top_3 = reversed(top_3[np.argsort(preds[0][top_3])])\n",
        "    print('Top 3 Predictions:')\n",
        "    print('------------------')\n",
        "    for i in top_3:\n",
        "        print('{0}: {1:.2f}%'.format(class_dict[i], 100 * preds[0][i]))\n"
      ],
      "execution_count": 0,
      "outputs": []
    },
    {
      "cell_type": "code",
      "metadata": {
        "id": "R4uUgGAIbNbr",
        "colab_type": "code",
        "colab": {}
      },
      "source": [
        "def prepare_image(image, target_width=224, target_height=224, max_zoom=0.2):\n",
        "    height = image.shape[0]\n",
        "    width = image.shape[1]\n",
        "    image_ratio = width / height\n",
        "    target_image_ratio = target_width / target_height\n",
        "    crop_vertically = image_ratio < target_image_ratio\n",
        "    crop_width = width if crop_vertically else int(height * target_image_ratio)\n",
        "    crop_height = int(width / target_image_ratio) if crop_vertically else height\n",
        "\n",
        "    resize_factor = np.random.rand() * max_zoom + 1.0\n",
        "    crop_width = int(crop_width / resize_factor)\n",
        "    crop_height = int(crop_height / resize_factor)\n",
        "\n",
        "    x0 = np.random.randint(0, width - crop_width)\n",
        "    y0 = np.random.randint(0, height - crop_height)\n",
        "    x1 = x0 + crop_width\n",
        "    y1 = y0 + crop_height\n",
        "\n",
        "    image = image[y0:y1, x0:x1]\n",
        "    image = cv2.resize(image, (target_width, target_height))\n",
        "\n",
        "    return image.astype(np.float32) / 255"
      ],
      "execution_count": 0,
      "outputs": []
    },
    {
      "cell_type": "code",
      "metadata": {
        "id": "-8izA7y-bQAD",
        "colab_type": "code",
        "outputId": "51228e87-c25d-41cb-9b47-515cf008c8cf",
        "colab": {
          "base_uri": "https://localhost:8080/",
          "height": 102
        }
      },
      "source": [
        "if __name__ == '__main__':\n",
        "    img_path = \"drive/ML-Kaggle/UnseenData/Impressionism/91795.jpg\"\n",
        "    make_prediction(img_path)"
      ],
      "execution_count": 0,
      "outputs": [
        {
          "output_type": "stream",
          "text": [
            "Top 3 Predictions:\n",
            "------------------\n",
            "Impressionism: 99.86%\n",
            "Expressionism: 0.13%\n",
            "Surrealism: 0.01%\n"
          ],
          "name": "stdout"
        }
      ]
    }
  ]
}